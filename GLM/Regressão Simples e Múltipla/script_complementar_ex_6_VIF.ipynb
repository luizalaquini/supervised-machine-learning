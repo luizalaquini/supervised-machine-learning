{
 "cells": [
  {
   "cell_type": "code",
   "execution_count": 1,
   "metadata": {},
   "outputs": [
    {
     "data": {
      "text/html": [
       "<div>\n",
       "<style scoped>\n",
       "    .dataframe tbody tr th:only-of-type {\n",
       "        vertical-align: middle;\n",
       "    }\n",
       "\n",
       "    .dataframe tbody tr th {\n",
       "        vertical-align: top;\n",
       "    }\n",
       "\n",
       "    .dataframe thead th {\n",
       "        text-align: right;\n",
       "    }\n",
       "</style>\n",
       "<table border=\"1\" class=\"dataframe\">\n",
       "  <thead>\n",
       "    <tr style=\"text-align: right;\">\n",
       "      <th></th>\n",
       "      <th>nome</th>\n",
       "      <th>salario</th>\n",
       "      <th>rh1</th>\n",
       "      <th>econometria1</th>\n",
       "      <th>rh2</th>\n",
       "      <th>econometria2</th>\n",
       "    </tr>\n",
       "  </thead>\n",
       "  <tbody>\n",
       "    <tr>\n",
       "      <th>0</th>\n",
       "      <td>Patricia</td>\n",
       "      <td>2525.340820</td>\n",
       "      <td>3.0</td>\n",
       "      <td>9.0</td>\n",
       "      <td>9.0</td>\n",
       "      <td>4.50</td>\n",
       "    </tr>\n",
       "    <tr>\n",
       "      <th>1</th>\n",
       "      <td>Luiz</td>\n",
       "      <td>2498.574951</td>\n",
       "      <td>7.0</td>\n",
       "      <td>8.0</td>\n",
       "      <td>8.0</td>\n",
       "      <td>4.00</td>\n",
       "    </tr>\n",
       "    <tr>\n",
       "      <th>2</th>\n",
       "      <td>Dalila</td>\n",
       "      <td>2364.686768</td>\n",
       "      <td>10.0</td>\n",
       "      <td>9.5</td>\n",
       "      <td>9.5</td>\n",
       "      <td>4.75</td>\n",
       "    </tr>\n",
       "    <tr>\n",
       "      <th>3</th>\n",
       "      <td>Leonor</td>\n",
       "      <td>1981.349854</td>\n",
       "      <td>10.0</td>\n",
       "      <td>7.0</td>\n",
       "      <td>7.0</td>\n",
       "      <td>3.50</td>\n",
       "    </tr>\n",
       "    <tr>\n",
       "      <th>4</th>\n",
       "      <td>Ovidio</td>\n",
       "      <td>1892.807983</td>\n",
       "      <td>7.0</td>\n",
       "      <td>6.0</td>\n",
       "      <td>6.0</td>\n",
       "      <td>3.10</td>\n",
       "    </tr>\n",
       "  </tbody>\n",
       "</table>\n",
       "</div>"
      ],
      "text/plain": [
       "       nome      salario   rh1  econometria1  rh2  econometria2\n",
       "0  Patricia  2525.340820   3.0           9.0  9.0          4.50\n",
       "1      Luiz  2498.574951   7.0           8.0  8.0          4.00\n",
       "2    Dalila  2364.686768  10.0           9.5  9.5          4.75\n",
       "3    Leonor  1981.349854  10.0           7.0  7.0          3.50\n",
       "4    Ovidio  1892.807983   7.0           6.0  6.0          3.10"
      ]
     },
     "execution_count": 1,
     "metadata": {},
     "output_type": "execute_result"
    }
   ],
   "source": [
    "import pandas as pd\n",
    "import statsmodels.api as sm \n",
    "from statstests.process import stepwise\n",
    "\n",
    "df_salarios = pd.read_csv('data/salarios.csv')\n",
    "df_salarios.head()"
   ]
  },
  {
   "cell_type": "code",
   "execution_count": 2,
   "metadata": {},
   "outputs": [
    {
     "name": "stdout",
     "output_type": "stream",
     "text": [
      "                            OLS Regression Results                            \n",
      "==============================================================================\n",
      "Dep. Variable:                salario   R-squared:                       0.075\n",
      "Model:                            OLS   Adj. R-squared:                  0.003\n",
      "Method:                 Least Squares   F-statistic:                     1.048\n",
      "Date:                Wed, 28 Aug 2024   Prob (F-statistic):              0.325\n",
      "Time:                        20:50:35   Log-Likelihood:                -106.35\n",
      "No. Observations:                  15   AIC:                             216.7\n",
      "Df Residuals:                      13   BIC:                             218.1\n",
      "Df Model:                           1                                         \n",
      "Covariance Type:            nonrobust                                         \n",
      "==============================================================================\n",
      "                 coef    std err          t      P>|t|      [0.025      0.975]\n",
      "------------------------------------------------------------------------------\n",
      "Intercept   2225.5645    205.346     10.838      0.000    1781.942    2669.187\n",
      "rh1          -26.9379     26.308     -1.024      0.325     -83.772      29.896\n",
      "==============================================================================\n",
      "Omnibus:                        1.302   Durbin-Watson:                   1.341\n",
      "Prob(Omnibus):                  0.521   Jarque-Bera (JB):                0.795\n",
      "Skew:                           0.068   Prob(JB):                        0.672\n",
      "Kurtosis:                       1.880   Cond. No.                         20.2\n",
      "==============================================================================\n",
      "\n",
      "Notes:\n",
      "[1] Standard Errors assume that the covariance matrix of the errors is correctly specified.\n"
     ]
    },
    {
     "name": "stderr",
     "output_type": "stream",
     "text": [
      "c:\\Users\\madeinweb\\Documents\\GitHub\\supervised-machine-learning\\myenv\\lib\\site-packages\\scipy\\stats\\_stats_py.py:1806: UserWarning: kurtosistest only valid for n>=20 ... continuing anyway, n=15\n",
      "  warnings.warn(\"kurtosistest only valid for n>=20 ... continuing \"\n"
     ]
    }
   ],
   "source": [
    "modelo1_aux1 = sm.OLS.from_formula('salario ~ rh1',\n",
    "                                   df_salarios).fit()\n",
    "\n",
    "print(modelo1_aux1.summary())"
   ]
  },
  {
   "cell_type": "markdown",
   "metadata": {},
   "source": [
    "**Modelo 1**"
   ]
  },
  {
   "cell_type": "code",
   "execution_count": 3,
   "metadata": {},
   "outputs": [
    {
     "name": "stdout",
     "output_type": "stream",
     "text": [
      "                            OLS Regression Results                            \n",
      "==============================================================================\n",
      "Dep. Variable:                salario   R-squared:                       0.827\n",
      "Model:                            OLS   Adj. R-squared:                  0.799\n",
      "Method:                 Least Squares   F-statistic:                     28.77\n",
      "Date:                Wed, 28 Aug 2024   Prob (F-statistic):           2.64e-05\n",
      "Time:                        20:50:35   Log-Likelihood:                -93.759\n",
      "No. Observations:                  15   AIC:                             193.5\n",
      "Df Residuals:                      12   BIC:                             195.6\n",
      "Df Model:                           2                                         \n",
      "Covariance Type:            nonrobust                                         \n",
      "================================================================================\n",
      "                   coef    std err          t      P>|t|      [0.025      0.975]\n",
      "--------------------------------------------------------------------------------\n",
      "Intercept     1246.6172    163.783      7.611      0.000     889.765    1603.469\n",
      "rh1             -3.4184     12.263     -0.279      0.785     -30.137      23.300\n",
      "econometria1   126.5746     17.494      7.235      0.000      88.459     164.691\n",
      "==============================================================================\n",
      "Omnibus:                        1.817   Durbin-Watson:                   1.536\n",
      "Prob(Omnibus):                  0.403   Jarque-Bera (JB):                1.396\n",
      "Skew:                           0.597   Prob(JB):                        0.498\n",
      "Kurtosis:                       2.101   Cond. No.                         45.3\n",
      "==============================================================================\n",
      "\n",
      "Notes:\n",
      "[1] Standard Errors assume that the covariance matrix of the errors is correctly specified.\n"
     ]
    },
    {
     "name": "stderr",
     "output_type": "stream",
     "text": [
      "c:\\Users\\madeinweb\\Documents\\GitHub\\supervised-machine-learning\\myenv\\lib\\site-packages\\scipy\\stats\\_stats_py.py:1806: UserWarning: kurtosistest only valid for n>=20 ... continuing anyway, n=15\n",
      "  warnings.warn(\"kurtosistest only valid for n>=20 ... continuing \"\n"
     ]
    }
   ],
   "source": [
    "modelo1 = sm.OLS.from_formula('salario ~ rh1 + econometria1', df_salarios).fit()\n",
    "\n",
    "print(modelo1.summary())"
   ]
  },
  {
   "cell_type": "code",
   "execution_count": 4,
   "metadata": {},
   "outputs": [
    {
     "name": "stdout",
     "output_type": "stream",
     "text": [
      "Regression type: OLS \n",
      "\n",
      "Estimating model...: \n",
      " salario ~ Q('rh1') + Q('econometria1')\n",
      "\n",
      " Discarding atribute \"Q('rh1')\" with p-value equal to 0.7851743044424164 \n",
      "\n",
      "Estimating model...: \n",
      " salario ~ Q('econometria1')\n",
      "\n",
      " No more atributes with p-value higher than 0.05\n",
      "\n",
      " Atributes discarded on the process...: \n",
      "\n",
      "{'atribute': \"Q('rh1')\", 'p-value': 0.7851743044424164}\n",
      "\n",
      " Model after stepwise process...: \n",
      " salario ~ Q('econometria1') \n",
      "\n",
      "                            OLS Regression Results                            \n",
      "==============================================================================\n",
      "Dep. Variable:                salario   R-squared:                       0.826\n",
      "Model:                            OLS   Adj. R-squared:                  0.813\n",
      "Method:                 Least Squares   F-statistic:                     61.85\n",
      "Date:                Wed, 28 Aug 2024   Prob (F-statistic):           2.69e-06\n",
      "Time:                        20:50:35   Log-Likelihood:                -93.807\n",
      "No. Observations:                  15   AIC:                             191.6\n",
      "Df Residuals:                      13   BIC:                             193.0\n",
      "Df Model:                           1                                         \n",
      "Covariance Type:            nonrobust                                         \n",
      "=====================================================================================\n",
      "                        coef    std err          t      P>|t|      [0.025      0.975]\n",
      "-------------------------------------------------------------------------------------\n",
      "Intercept          1213.7997    109.752     11.060      0.000     976.696    1450.904\n",
      "Q('econometria1')   127.8673     16.259      7.865      0.000      92.742     162.992\n",
      "==============================================================================\n",
      "Omnibus:                        2.049   Durbin-Watson:                   1.560\n",
      "Prob(Omnibus):                  0.359   Jarque-Bera (JB):                1.492\n",
      "Skew:                           0.601   Prob(JB):                        0.474\n",
      "Kurtosis:                       2.028   Cond. No.                         21.6\n",
      "==============================================================================\n",
      "\n",
      "Notes:\n",
      "[1] Standard Errors assume that the covariance matrix of the errors is correctly specified.\n"
     ]
    },
    {
     "name": "stderr",
     "output_type": "stream",
     "text": [
      "c:\\Users\\madeinweb\\Documents\\GitHub\\supervised-machine-learning\\myenv\\lib\\site-packages\\scipy\\stats\\_stats_py.py:1806: UserWarning: kurtosistest only valid for n>=20 ... continuing anyway, n=15\n",
      "  warnings.warn(\"kurtosistest only valid for n>=20 ... continuing \"\n"
     ]
    }
   ],
   "source": [
    "# Procedimento Stepwise no 'modelo1'\n",
    "\n",
    "modelo1_step = stepwise(modelo1, pvalue_limit=0.05)"
   ]
  },
  {
   "cell_type": "code",
   "execution_count": 5,
   "metadata": {},
   "outputs": [
    {
     "name": "stdout",
     "output_type": "stream",
     "text": [
      "                            OLS Regression Results                            \n",
      "==============================================================================\n",
      "Dep. Variable:                salario   R-squared:                       0.826\n",
      "Model:                            OLS   Adj. R-squared:                  0.813\n",
      "Method:                 Least Squares   F-statistic:                     61.85\n",
      "Date:                Wed, 28 Aug 2024   Prob (F-statistic):           2.69e-06\n",
      "Time:                        20:50:35   Log-Likelihood:                -93.807\n",
      "No. Observations:                  15   AIC:                             191.6\n",
      "Df Residuals:                      13   BIC:                             193.0\n",
      "Df Model:                           1                                         \n",
      "Covariance Type:            nonrobust                                         \n",
      "================================================================================\n",
      "                   coef    std err          t      P>|t|      [0.025      0.975]\n",
      "--------------------------------------------------------------------------------\n",
      "Intercept     1213.7997    109.752     11.060      0.000     976.696    1450.904\n",
      "econometria1   127.8673     16.259      7.865      0.000      92.742     162.992\n",
      "==============================================================================\n",
      "Omnibus:                        2.049   Durbin-Watson:                   1.560\n",
      "Prob(Omnibus):                  0.359   Jarque-Bera (JB):                1.492\n",
      "Skew:                           0.601   Prob(JB):                        0.474\n",
      "Kurtosis:                       2.028   Cond. No.                         21.6\n",
      "==============================================================================\n",
      "\n",
      "Notes:\n",
      "[1] Standard Errors assume that the covariance matrix of the errors is correctly specified.\n"
     ]
    },
    {
     "name": "stderr",
     "output_type": "stream",
     "text": [
      "c:\\Users\\madeinweb\\Documents\\GitHub\\supervised-machine-learning\\myenv\\lib\\site-packages\\scipy\\stats\\_stats_py.py:1806: UserWarning: kurtosistest only valid for n>=20 ... continuing anyway, n=15\n",
      "  warnings.warn(\"kurtosistest only valid for n>=20 ... continuing \"\n"
     ]
    }
   ],
   "source": [
    "# Modelo 1 aux2, somente com a preditora 'econometria1'\n",
    "\n",
    "modelo1_aux2 = sm.OLS.from_formula('salario ~ econometria1',\n",
    "                                   df_salarios).fit()\n",
    "\n",
    "print(modelo1_aux2.summary()) # igual output do procedimento Stepwise acima"
   ]
  },
  {
   "cell_type": "markdown",
   "metadata": {},
   "source": [
    "Observe que o R-suared diminui 0.001, entretanto para comparar modelos com as mesmas variáveis em quantidades de colunas diferentes, é para o Adj. R-quared que devemos olhar! E para isso ele é igual, porém com uma coluna a menos - o que o torna mais vantajoso."
   ]
  },
  {
   "cell_type": "code",
   "execution_count": 6,
   "metadata": {},
   "outputs": [
    {
     "name": "stdout",
     "output_type": "stream",
     "text": [
      "                            OLS Regression Results                            \n",
      "==============================================================================\n",
      "Dep. Variable:                    rh1   R-squared:                       0.070\n",
      "Model:                            OLS   Adj. R-squared:                 -0.001\n",
      "Method:                 Least Squares   F-statistic:                    0.9825\n",
      "Date:                Wed, 28 Aug 2024   Prob (F-statistic):              0.340\n",
      "Time:                        20:50:35   Log-Likelihood:                -37.523\n",
      "No. Observations:                  15   AIC:                             79.05\n",
      "Df Residuals:                      13   BIC:                             80.46\n",
      "Df Model:                           1                                         \n",
      "Covariance Type:            nonrobust                                         \n",
      "================================================================================\n",
      "                   coef    std err          t      P>|t|      [0.025      0.975]\n",
      "--------------------------------------------------------------------------------\n",
      "Intercept        9.6001      2.575      3.728      0.003       4.037      15.164\n",
      "econometria1    -0.3781      0.382     -0.991      0.340      -1.202       0.446\n",
      "==============================================================================\n",
      "Omnibus:                        2.062   Durbin-Watson:                   1.918\n",
      "Prob(Omnibus):                  0.357   Jarque-Bera (JB):                1.177\n",
      "Skew:                          -0.368   Prob(JB):                        0.555\n",
      "Kurtosis:                       1.841   Cond. No.                         21.6\n",
      "==============================================================================\n",
      "\n",
      "Notes:\n",
      "[1] Standard Errors assume that the covariance matrix of the errors is correctly specified.\n"
     ]
    },
    {
     "name": "stderr",
     "output_type": "stream",
     "text": [
      "c:\\Users\\madeinweb\\Documents\\GitHub\\supervised-machine-learning\\myenv\\lib\\site-packages\\scipy\\stats\\_stats_py.py:1806: UserWarning: kurtosistest only valid for n>=20 ... continuing anyway, n=15\n",
      "  warnings.warn(\"kurtosistest only valid for n>=20 ... continuing \"\n"
     ]
    }
   ],
   "source": [
    "# Modelo 1 aux3, rodando 'rh1' em função de 'econometria1'\n",
    "\n",
    "modelo1_aux3 = sm.OLS.from_formula('rh1 ~ econometria1', # para diagnosticar a baixa significancia entre as duas\n",
    "                                   df_salarios).fit()\n",
    "\n",
    "print(modelo1_aux3.summary())"
   ]
  },
  {
   "cell_type": "code",
   "execution_count": 7,
   "metadata": {},
   "outputs": [
    {
     "data": {
      "text/plain": [
       "0.9297346300260828"
      ]
     },
     "execution_count": 7,
     "metadata": {},
     "output_type": "execute_result"
    }
   ],
   "source": [
    "# Disgnóstico de Multicolinearidade\n",
    "\n",
    "# Cálculo da Tolerance (variando de 1 a 0)\n",
    "\n",
    "tolerance1 = 1 - modelo1_aux3.rsquared\n",
    "tolerance1"
   ]
  },
  {
   "cell_type": "code",
   "execution_count": 8,
   "metadata": {},
   "outputs": [
    {
     "data": {
      "text/plain": [
       "1.0755757263467167"
      ]
     },
     "execution_count": 8,
     "metadata": {},
     "output_type": "execute_result"
    }
   ],
   "source": [
    "# Cálculo do VIF (Variance Inflation Factor - variando de 1 a inf.)\n",
    "VIF1 = 1/tolerance1\n",
    "VIF1\n",
    "\n",
    "# VIF próximo de 1 = ausência de multicolinearidade\n",
    "# VIF elevado = presença de multicolinearidade - acima de 5 já indica um R-squared de 80%"
   ]
  },
  {
   "cell_type": "markdown",
   "metadata": {},
   "source": [
    "Diagnóstico: Ausência de multicolinearidade no modelo 1! As variáveis não se relacionam "
   ]
  },
  {
   "cell_type": "markdown",
   "metadata": {},
   "source": [
    "**Modelo 2**"
   ]
  },
  {
   "cell_type": "code",
   "execution_count": 10,
   "metadata": {},
   "outputs": [
    {
     "name": "stdout",
     "output_type": "stream",
     "text": [
      "                            OLS Regression Results                            \n",
      "==============================================================================\n",
      "Dep. Variable:                    rh2   R-squared:                       0.988\n",
      "Model:                            OLS   Adj. R-squared:                  0.987\n",
      "Method:                 Least Squares   F-statistic:                     1054.\n",
      "Date:                Wed, 28 Aug 2024   Prob (F-statistic):           7.89e-14\n",
      "Time:                        20:50:45   Log-Likelihood:                0.31565\n",
      "No. Observations:                  15   AIC:                             3.369\n",
      "Df Residuals:                      13   BIC:                             4.785\n",
      "Df Model:                           1                                         \n",
      "Covariance Type:            nonrobust                                         \n",
      "================================================================================\n",
      "                   coef    std err          t      P>|t|      [0.025      0.975]\n",
      "--------------------------------------------------------------------------------\n",
      "Intercept       -0.3405      0.218     -1.563      0.142      -0.811       0.130\n",
      "econometria2     2.0804      0.064     32.462      0.000       1.942       2.219\n",
      "==============================================================================\n",
      "Omnibus:                       29.838   Durbin-Watson:                   1.987\n",
      "Prob(Omnibus):                  0.000   Jarque-Bera (JB):               45.376\n",
      "Skew:                          -2.641   Prob(JB):                     1.40e-10\n",
      "Kurtosis:                       9.686   Cond. No.                         12.2\n",
      "==============================================================================\n",
      "\n",
      "Notes:\n",
      "[1] Standard Errors assume that the covariance matrix of the errors is correctly specified.\n"
     ]
    },
    {
     "name": "stderr",
     "output_type": "stream",
     "text": [
      "c:\\Users\\madeinweb\\Documents\\GitHub\\supervised-machine-learning\\myenv\\lib\\site-packages\\scipy\\stats\\_stats_py.py:1806: UserWarning: kurtosistest only valid for n>=20 ... continuing anyway, n=15\n",
      "  warnings.warn(\"kurtosistest only valid for n>=20 ... continuing \"\n"
     ]
    }
   ],
   "source": [
    "# Modelo 2 aux1, rodando 'rh2' em função de 'econometria2'\n",
    "\n",
    "modelo2_aux1 = sm.OLS.from_formula('rh2 ~ econometria2',\n",
    "                                   df_salarios).fit()\n",
    "\n",
    "print(modelo2_aux1.summary())"
   ]
  },
  {
   "cell_type": "code",
   "execution_count": 11,
   "metadata": {},
   "outputs": [
    {
     "data": {
      "text/plain": [
       "82.06145751840752"
      ]
     },
     "execution_count": 11,
     "metadata": {},
     "output_type": "execute_result"
    }
   ],
   "source": [
    "# Disgnóstico de Multicolinearidade\n",
    "\n",
    "# Cálculo da Tolerance\n",
    "\n",
    "tolerance2 = 1 - modelo2_aux1.rsquared\n",
    "tolerance2\n",
    "\n",
    "# Cálculo do VIF\n",
    "VIF2 = 1/tolerance2\n",
    "VIF2"
   ]
  },
  {
   "cell_type": "code",
   "execution_count": 12,
   "metadata": {},
   "outputs": [
    {
     "name": "stdout",
     "output_type": "stream",
     "text": [
      "Regression type: OLS \n",
      "\n",
      "Estimating model...: \n",
      " salario ~ Q('rh2') + Q('econometria2')\n",
      "\n",
      " Discarding atribute \"Q('econometria2')\" with p-value equal to 0.6691198047642124 \n",
      "\n",
      "Estimating model...: \n",
      " salario ~ Q('rh2')\n",
      "\n",
      " No more atributes with p-value higher than 0.05\n",
      "\n",
      " Atributes discarded on the process...: \n",
      "\n",
      "{'atribute': \"Q('econometria2')\", 'p-value': 0.6691198047642124}\n",
      "\n",
      " Model after stepwise process...: \n",
      " salario ~ Q('rh2') \n",
      "\n",
      "                            OLS Regression Results                            \n",
      "==============================================================================\n",
      "Dep. Variable:                salario   R-squared:                       0.826\n",
      "Model:                            OLS   Adj. R-squared:                  0.813\n",
      "Method:                 Least Squares   F-statistic:                     61.85\n",
      "Date:                Wed, 28 Aug 2024   Prob (F-statistic):           2.69e-06\n",
      "Time:                        20:51:04   Log-Likelihood:                -93.807\n",
      "No. Observations:                  15   AIC:                             191.6\n",
      "Df Residuals:                      13   BIC:                             193.0\n",
      "Df Model:                           1                                         \n",
      "Covariance Type:            nonrobust                                         \n",
      "==============================================================================\n",
      "                 coef    std err          t      P>|t|      [0.025      0.975]\n",
      "------------------------------------------------------------------------------\n",
      "Intercept   1213.7997    109.752     11.060      0.000     976.696    1450.904\n",
      "Q('rh2')     127.8673     16.259      7.865      0.000      92.742     162.992\n",
      "==============================================================================\n",
      "Omnibus:                        2.049   Durbin-Watson:                   1.560\n",
      "Prob(Omnibus):                  0.359   Jarque-Bera (JB):                1.492\n",
      "Skew:                           0.601   Prob(JB):                        0.474\n",
      "Kurtosis:                       2.028   Cond. No.                         21.6\n",
      "==============================================================================\n",
      "\n",
      "Notes:\n",
      "[1] Standard Errors assume that the covariance matrix of the errors is correctly specified.\n"
     ]
    },
    {
     "name": "stderr",
     "output_type": "stream",
     "text": [
      "c:\\Users\\madeinweb\\Documents\\GitHub\\supervised-machine-learning\\myenv\\lib\\site-packages\\scipy\\stats\\_stats_py.py:1806: UserWarning: kurtosistest only valid for n>=20 ... continuing anyway, n=15\n",
      "  warnings.warn(\"kurtosistest only valid for n>=20 ... continuing \"\n"
     ]
    }
   ],
   "source": [
    "# Procedimento Stepwise no 'modelo2' (Boa notícia!)\n",
    "\n",
    "modelo2 = sm.OLS.from_formula('salario ~ rh2 + econometria2', df_salarios).fit()\n",
    "\n",
    "modelo2_step = stepwise(modelo2, pvalue_limit=0.05)"
   ]
  },
  {
   "cell_type": "code",
   "execution_count": 14,
   "metadata": {},
   "outputs": [
    {
     "name": "stdout",
     "output_type": "stream",
     "text": [
      "                            OLS Regression Results                            \n",
      "==============================================================================\n",
      "Dep. Variable:                salario   R-squared:                       0.806\n",
      "Model:                            OLS   Adj. R-squared:                  0.791\n",
      "Method:                 Least Squares   F-statistic:                     53.96\n",
      "Date:                Wed, 28 Aug 2024   Prob (F-statistic):           5.62e-06\n",
      "Time:                        20:54:44   Log-Likelihood:                -94.642\n",
      "No. Observations:                  15   AIC:                             193.3\n",
      "Df Residuals:                      13   BIC:                             194.7\n",
      "Df Model:                           1                                         \n",
      "Covariance Type:            nonrobust                                         \n",
      "================================================================================\n",
      "                   coef    std err          t      P>|t|      [0.025      0.975]\n",
      "--------------------------------------------------------------------------------\n",
      "Intercept     1175.7672    122.281      9.615      0.000     911.596    1439.939\n",
      "econometria2   264.3158     35.982      7.346      0.000     186.581     342.050\n",
      "==============================================================================\n",
      "Omnibus:                        2.685   Durbin-Watson:                   1.470\n",
      "Prob(Omnibus):                  0.261   Jarque-Bera (JB):                1.606\n",
      "Skew:                           0.559   Prob(JB):                        0.448\n",
      "Kurtosis:                       1.852   Cond. No.                         12.2\n",
      "==============================================================================\n",
      "\n",
      "Notes:\n",
      "[1] Standard Errors assume that the covariance matrix of the errors is correctly specified.\n"
     ]
    },
    {
     "name": "stderr",
     "output_type": "stream",
     "text": [
      "c:\\Users\\madeinweb\\Documents\\GitHub\\supervised-machine-learning\\myenv\\lib\\site-packages\\scipy\\stats\\_stats_py.py:1806: UserWarning: kurtosistest only valid for n>=20 ... continuing anyway, n=15\n",
      "  warnings.warn(\"kurtosistest only valid for n>=20 ... continuing \"\n"
     ]
    }
   ],
   "source": [
    "# Modelo 2 aux1, somente com a preditora 'econometria2'\n",
    "\n",
    "modelo2_aux2 = sm.OLS.from_formula('salario ~ econometria2',\n",
    "                                   df_salarios).fit()\n",
    "\n",
    "print(modelo2_aux2.summary())"
   ]
  }
 ],
 "metadata": {
  "kernelspec": {
   "display_name": "myenv",
   "language": "python",
   "name": "python3"
  },
  "language_info": {
   "codemirror_mode": {
    "name": "ipython",
    "version": 3
   },
   "file_extension": ".py",
   "mimetype": "text/x-python",
   "name": "python",
   "nbconvert_exporter": "python",
   "pygments_lexer": "ipython3",
   "version": "3.10.11"
  }
 },
 "nbformat": 4,
 "nbformat_minor": 2
}
