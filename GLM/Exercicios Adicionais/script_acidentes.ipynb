{
 "cells": [
  {
   "cell_type": "markdown",
   "metadata": {},
   "source": [
    "**UNIVERSIDADE DE SÃO PAULO**<br>\n",
    "**MBA DATA SCIENCE & ANALYTICS USP/ESALQ**<br>\n",
    "**SUPERVISED MACHINE LEARNING: EXERCÍCIOS ADICIONAIS**<br>\n",
    "**Prof. Dr. Wilson Tarantim Junior**<br>\n",
    "Aluna: Luiza Batista Laquini<br>\n",
    "Turma: DSA 241<br>\n",
    "\n",
    "\n",
    "*coding: utf-8*"
   ]
  },
  {
   "cell_type": "code",
   "execution_count": 2,
   "metadata": {},
   "outputs": [],
   "source": [
    "# #%% Instalando os pacotes necessários\n",
    "\n",
    "# !pip install pandas\n",
    "# !pip install numpy\n",
    "# !pip install statsmodels\n",
    "# !pip install matplotlib\n",
    "# !pip install -U seaborn\n",
    "# !pip install pingouin\n",
    "# !pip install scipy"
   ]
  },
  {
   "cell_type": "code",
   "execution_count": 3,
   "metadata": {},
   "outputs": [],
   "source": [
    "#%% Importando os pacotes\n",
    "\n",
    "import pandas as pd\n",
    "import numpy as np\n",
    "import matplotlib.pyplot as plt\n",
    "import seaborn as sns\n",
    "import pingouin as pg\n",
    "import statsmodels.api as sm\n",
    "import statsmodels.formula.api as smf\n",
    "from scipy import stats\n",
    "from statsmodels.discrete.discrete_model import NegativeBinomial, Poisson\n",
    "from statsmodels.discrete.count_model import ZeroInflatedNegativeBinomialP,ZeroInflatedPoisson\n",
    "import warnings\n",
    "warnings.filterwarnings('ignore')"
   ]
  },
  {
   "cell_type": "code",
   "execution_count": 5,
   "metadata": {},
   "outputs": [
    {
     "data": {
      "text/html": [
       "<div>\n",
       "<style scoped>\n",
       "    .dataframe tbody tr th:only-of-type {\n",
       "        vertical-align: middle;\n",
       "    }\n",
       "\n",
       "    .dataframe tbody tr th {\n",
       "        vertical-align: top;\n",
       "    }\n",
       "\n",
       "    .dataframe thead th {\n",
       "        text-align: right;\n",
       "    }\n",
       "</style>\n",
       "<table border=\"1\" class=\"dataframe\">\n",
       "  <thead>\n",
       "    <tr style=\"text-align: right;\">\n",
       "      <th></th>\n",
       "      <th>acidentes</th>\n",
       "      <th>pop</th>\n",
       "      <th>idade</th>\n",
       "      <th>leiseca</th>\n",
       "    </tr>\n",
       "  </thead>\n",
       "  <tbody>\n",
       "    <tr>\n",
       "      <th>0</th>\n",
       "      <td>7</td>\n",
       "      <td>0.760693</td>\n",
       "      <td>49.51</td>\n",
       "      <td>0</td>\n",
       "    </tr>\n",
       "    <tr>\n",
       "      <th>1</th>\n",
       "      <td>0</td>\n",
       "      <td>1.433687</td>\n",
       "      <td>51.93</td>\n",
       "      <td>0</td>\n",
       "    </tr>\n",
       "    <tr>\n",
       "      <th>2</th>\n",
       "      <td>0</td>\n",
       "      <td>0.737124</td>\n",
       "      <td>60.00</td>\n",
       "      <td>0</td>\n",
       "    </tr>\n",
       "  </tbody>\n",
       "</table>\n",
       "</div>"
      ],
      "text/plain": [
       "   acidentes       pop  idade  leiseca\n",
       "0          7  0.760693  49.51        0\n",
       "1          0  1.433687  51.93        0\n",
       "2          0  0.737124  60.00        0"
      ]
     },
     "execution_count": 5,
     "metadata": {},
     "output_type": "execute_result"
    }
   ],
   "source": [
    "#%% Importando o banco de dados\n",
    "\n",
    "acidentes = pd.read_excel('data/acidentes.xlsx')\n",
    "## Fonte: Fávero e Belfiore (2024) Manual de Análise de Dados, Capítulo 14\n",
    "\n",
    "acidentes.head(3)"
   ]
  },
  {
   "cell_type": "markdown",
   "metadata": {},
   "source": [
    "OBS:\n",
    "- acidentes por semana \n",
    "- população em milhão"
   ]
  },
  {
   "cell_type": "code",
   "execution_count": 6,
   "metadata": {},
   "outputs": [
    {
     "name": "stdout",
     "output_type": "stream",
     "text": [
      "<class 'pandas.core.frame.DataFrame'>\n",
      "RangeIndex: 100 entries, 0 to 99\n",
      "Data columns (total 4 columns):\n",
      " #   Column     Non-Null Count  Dtype  \n",
      "---  ------     --------------  -----  \n",
      " 0   acidentes  100 non-null    int64  \n",
      " 1   pop        100 non-null    float64\n",
      " 2   idade      100 non-null    float64\n",
      " 3   leiseca    100 non-null    int64  \n",
      "dtypes: float64(2), int64(2)\n",
      "memory usage: 3.2 KB\n"
     ]
    }
   ],
   "source": [
    "acidentes.info()"
   ]
  },
  {
   "cell_type": "code",
   "execution_count": 8,
   "metadata": {},
   "outputs": [
    {
     "name": "stdout",
     "output_type": "stream",
     "text": [
      "        acidentes         pop      idade\n",
      "count  100.000000  100.000000  100.00000\n",
      "mean     3.010000    1.774185   50.12270\n",
      "std      6.557431    0.769494    7.69488\n",
      "min      0.000000    0.650289   24.00000\n",
      "25%      0.000000    1.353586   47.77250\n",
      "50%      0.000000    1.463477   51.75500\n",
      "75%      3.000000    2.300476   54.94750\n",
      "max     33.000000    2.867504   61.00000 \n",
      "\n",
      "leiseca\n",
      "0    58\n",
      "1    42\n",
      "Name: count, dtype: int64\n"
     ]
    }
   ],
   "source": [
    "#%% Estatísticas descritivas\n",
    "\n",
    "# Variáveis métricas\n",
    "print(acidentes[['acidentes', 'pop', 'idade']].describe(), '\\n')\n",
    "\n",
    "# Variável categórica\n",
    "print(acidentes['leiseca'].value_counts())"
   ]
  },
  {
   "cell_type": "code",
   "execution_count": 9,
   "metadata": {},
   "outputs": [
    {
     "data": {
      "text/plain": [
       "acidentes\n",
       "0     58\n",
       "1      8\n",
       "2      6\n",
       "3      6\n",
       "4      4\n",
       "5      3\n",
       "6      2\n",
       "7      1\n",
       "8      2\n",
       "9      2\n",
       "10     1\n",
       "14     1\n",
       "16     1\n",
       "20     1\n",
       "25     1\n",
       "30     1\n",
       "31     1\n",
       "33     1\n",
       "Name: count, dtype: int64"
      ]
     },
     "execution_count": 9,
     "metadata": {},
     "output_type": "execute_result"
    }
   ],
   "source": [
    "# Tabela de frequências de Y\n",
    "acidentes['acidentes'].value_counts().sort_index()"
   ]
  },
  {
   "cell_type": "code",
   "execution_count": 11,
   "metadata": {},
   "outputs": [
    {
     "data": {
      "image/png": "[encoded data removed]",
      "text/plain": [
       "<Figure size 900x600 with 1 Axes>"
      ]
     },
     "metadata": {},
     "output_type": "display_data"
    }
   ],
   "source": [
    "#%% Histograma da variável dependente\n",
    "\n",
    "plt.figure(figsize=(9,6))\n",
    "ax = sns.barplot(data = acidentes['acidentes'].value_counts().sort_index(), color='purple')\n",
    "ax.bar_label(ax.containers[0])\n",
    "plt.xlabel('Acidentes por Semana', fontsize=18)\n",
    "plt.ylabel('Frequência', fontsize=18)\n",
    "plt.xticks(fontsize=15)\n",
    "plt.yticks(fontsize=15)\n",
    "plt.show()"
   ]
  },
  {
   "cell_type": "code",
   "execution_count": 12,
   "metadata": {},
   "outputs": [
    {
     "name": "stdout",
     "output_type": "stream",
     "text": [
      "Média: 3.01\n",
      "Variância: 43.0\n"
     ]
    }
   ],
   "source": [
    "#%% Comparação média x variância da variável dependente\n",
    "\n",
    "print(f\"Média: {round(acidentes['acidentes'].mean(), 2)}\")\n",
    "print(f\"Variância: {round(acidentes['acidentes'].var(), 2)}\")\n",
    "\n",
    "# Variância consideravelmente maior do que a média!"
   ]
  },
  {
   "cell_type": "code",
   "execution_count": 13,
   "metadata": {},
   "outputs": [],
   "source": [
    "#%% Organização dos dados para os modelos \"zero inflated\"\n",
    "\n",
    "## É necessária a separação entre os componentes (contagem e zero inflated)\n",
    "\n",
    "# Variável dependente\n",
    "y = acidentes['acidentes']\n",
    "\n",
    "# Variáveis preditoras: componente de contagem\n",
    "x1 = acidentes['pop']\n",
    "X1 = sm.add_constant(x1)\n",
    "\n",
    "# Variáveis preditoras: componente logit (zero inflated)\n",
    "x2 = acidentes[['idade', 'leiseca']]\n",
    "X2 = sm.add_constant(x2)"
   ]
  },
  {
   "cell_type": "code",
   "execution_count": 14,
   "metadata": {},
   "outputs": [
    {
     "name": "stdout",
     "output_type": "stream",
     "text": [
      "         Current function value: 2.560484\n",
      "         Iterations: 35\n",
      "         Function evaluations: 67\n",
      "         Gradient evaluations: 67\n",
      "                     ZeroInflatedPoisson Regression Results                    \n",
      "===============================================================================\n",
      "Dep. Variable:               acidentes   No. Observations:                  100\n",
      "Model:             ZeroInflatedPoisson   Df Residuals:                       98\n",
      "Method:                            MLE   Df Model:                            1\n",
      "Date:                 Mon, 07 Oct 2024   Pseudo R-squ.:                  0.1343\n",
      "Time:                         20:46:08   Log-Likelihood:                -256.05\n",
      "converged:                       False   LL-Null:                       -295.79\n",
      "Covariance Type:             nonrobust   LLR p-value:                 4.877e-19\n",
      "===================================================================================\n",
      "                      coef    std err          z      P>|z|      [0.025      0.975]\n",
      "-----------------------------------------------------------------------------------\n",
      "inflate_const     -11.7276      3.029     -3.872      0.000     -17.664      -5.791\n",
      "inflate_idade       0.2252      0.058      3.857      0.000       0.111       0.340\n",
      "inflate_leiseca     1.7255      0.553      3.123      0.002       0.642       2.809\n",
      "const               0.9333      0.198      4.712      0.000       0.545       1.322\n",
      "pop                 0.5039      0.086      5.848      0.000       0.335       0.673\n",
      "===================================================================================\n"
     ]
    }
   ],
   "source": [
    "#%% Modelo Zero Inflated Poisson \n",
    "\n",
    "# Estimando o modelo\n",
    "modelo_zip = sm.ZeroInflatedPoisson(y, X1, exog_infl=X2,\n",
    "                                    inflation='logit').fit()\n",
    "\n",
    "# Parâmetros do modelo\n",
    "print(modelo_zip.summary())"
   ]
  },
  {
   "cell_type": "code",
   "execution_count": 17,
   "metadata": {},
   "outputs": [
    {
     "data": {
      "text/html": [
       "<div>\n",
       "<style scoped>\n",
       "    .dataframe tbody tr th:only-of-type {\n",
       "        vertical-align: middle;\n",
       "    }\n",
       "\n",
       "    .dataframe tbody tr th {\n",
       "        vertical-align: top;\n",
       "    }\n",
       "\n",
       "    .dataframe thead th {\n",
       "        text-align: right;\n",
       "    }\n",
       "</style>\n",
       "<table border=\"1\" class=\"dataframe\">\n",
       "  <thead>\n",
       "    <tr style=\"text-align: right;\">\n",
       "      <th></th>\n",
       "      <th>acidentes</th>\n",
       "      <th>pop</th>\n",
       "      <th>idade</th>\n",
       "      <th>leiseca</th>\n",
       "      <th>poisson_zi</th>\n",
       "    </tr>\n",
       "  </thead>\n",
       "  <tbody>\n",
       "    <tr>\n",
       "      <th>0</th>\n",
       "      <td>7</td>\n",
       "      <td>0.760693</td>\n",
       "      <td>49.51</td>\n",
       "      <td>0</td>\n",
       "      <td>2.389142</td>\n",
       "    </tr>\n",
       "    <tr>\n",
       "      <th>1</th>\n",
       "      <td>0</td>\n",
       "      <td>1.433687</td>\n",
       "      <td>51.93</td>\n",
       "      <td>0</td>\n",
       "      <td>2.660389</td>\n",
       "    </tr>\n",
       "    <tr>\n",
       "      <th>2</th>\n",
       "      <td>0</td>\n",
       "      <td>0.737124</td>\n",
       "      <td>60.00</td>\n",
       "      <td>0</td>\n",
       "      <td>0.529565</td>\n",
       "    </tr>\n",
       "  </tbody>\n",
       "</table>\n",
       "</div>"
      ],
      "text/plain": [
       "   acidentes       pop  idade  leiseca  poisson_zi\n",
       "0          7  0.760693  49.51        0    2.389142\n",
       "1          0  1.433687  51.93        0    2.660389\n",
       "2          0  0.737124  60.00        0    0.529565"
      ]
     },
     "execution_count": 17,
     "metadata": {},
     "output_type": "execute_result"
    }
   ],
   "source": [
    "# Valores preditos pelo modelo para observações da amostra\n",
    "acidentes['poisson_zi'] = modelo_zip.predict(X1, exog_infl=X2)\n",
    "\n",
    "acidentes.head(3)"
   ]
  },
  {
   "cell_type": "code",
   "execution_count": 18,
   "metadata": {},
   "outputs": [
    {
     "name": "stdout",
     "output_type": "stream",
     "text": [
      "Optimization terminated successfully.\n",
      "         Current function value: 4.488922\n",
      "         Iterations 5\n",
      "                          Poisson Regression Results                          \n",
      "==============================================================================\n",
      "Dep. Variable:              acidentes   No. Observations:                  100\n",
      "Model:                        Poisson   Df Residuals:                       98\n",
      "Method:                           MLE   Df Model:                            1\n",
      "Date:                Mon, 07 Oct 2024   Pseudo R-squ.:                 0.08185\n",
      "Time:                        20:47:01   Log-Likelihood:                -448.89\n",
      "converged:                       True   LL-Null:                       -488.91\n",
      "Covariance Type:            nonrobust   LLR p-value:                 3.684e-19\n",
      "==============================================================================\n",
      "                 coef    std err          z      P>|z|      [0.025      0.975]\n",
      "------------------------------------------------------------------------------\n",
      "Intercept     -0.2776      0.185     -1.497      0.134      -0.641       0.086\n",
      "pop            0.6986      0.081      8.585      0.000       0.539       0.858\n",
      "==============================================================================\n"
     ]
    }
   ],
   "source": [
    "#%% Modelo Poisson (comparação)\n",
    "\n",
    "modelo_poisson = sm.Poisson.from_formula(formula='acidentes ~ pop', \n",
    "                                         data=acidentes).fit()\n",
    "\n",
    "# Parâmetros do modelo\n",
    "print(modelo_poisson.summary())"
   ]
  },
  {
   "cell_type": "code",
   "execution_count": 19,
   "metadata": {},
   "outputs": [
    {
     "data": {
      "text/html": [
       "<div>\n",
       "<style scoped>\n",
       "    .dataframe tbody tr th:only-of-type {\n",
       "        vertical-align: middle;\n",
       "    }\n",
       "\n",
       "    .dataframe tbody tr th {\n",
       "        vertical-align: top;\n",
       "    }\n",
       "\n",
       "    .dataframe thead th {\n",
       "        text-align: right;\n",
       "    }\n",
       "</style>\n",
       "<table border=\"1\" class=\"dataframe\">\n",
       "  <thead>\n",
       "    <tr style=\"text-align: right;\">\n",
       "      <th></th>\n",
       "      <th>acidentes</th>\n",
       "      <th>pop</th>\n",
       "      <th>idade</th>\n",
       "      <th>leiseca</th>\n",
       "      <th>poisson_zi</th>\n",
       "      <th>poisson</th>\n",
       "    </tr>\n",
       "  </thead>\n",
       "  <tbody>\n",
       "    <tr>\n",
       "      <th>0</th>\n",
       "      <td>7</td>\n",
       "      <td>0.760693</td>\n",
       "      <td>49.51</td>\n",
       "      <td>0</td>\n",
       "      <td>2.389142</td>\n",
       "      <td>1.289001</td>\n",
       "    </tr>\n",
       "    <tr>\n",
       "      <th>1</th>\n",
       "      <td>0</td>\n",
       "      <td>1.433687</td>\n",
       "      <td>51.93</td>\n",
       "      <td>0</td>\n",
       "      <td>2.660389</td>\n",
       "      <td>2.062777</td>\n",
       "    </tr>\n",
       "    <tr>\n",
       "      <th>2</th>\n",
       "      <td>0</td>\n",
       "      <td>0.737124</td>\n",
       "      <td>60.00</td>\n",
       "      <td>0</td>\n",
       "      <td>0.529565</td>\n",
       "      <td>1.267950</td>\n",
       "    </tr>\n",
       "  </tbody>\n",
       "</table>\n",
       "</div>"
      ],
      "text/plain": [
       "   acidentes       pop  idade  leiseca  poisson_zi   poisson\n",
       "0          7  0.760693  49.51        0    2.389142  1.289001\n",
       "1          0  1.433687  51.93        0    2.660389  2.062777\n",
       "2          0  0.737124  60.00        0    0.529565  1.267950"
      ]
     },
     "execution_count": 19,
     "metadata": {},
     "output_type": "execute_result"
    }
   ],
   "source": [
    "# Valores preditos pelo modelo para observações da amostra\n",
    "acidentes['poisson'] = modelo_poisson.predict()\n",
    "\n",
    "acidentes.head(3)"
   ]
  },
  {
   "cell_type": "code",
   "execution_count": 20,
   "metadata": {},
   "outputs": [
    {
     "name": "stdout",
     "output_type": "stream",
     "text": [
      "Vuong Non-Nested Hypothesis Test-Statistic (Raw):\n",
      "Vuong z-statistic: 4.212\n",
      "p-value: 0.000\n",
      "\n",
      "==================Result======================== \n",
      "\n",
      "H1: Indicates inflation of zeros at 95% confidence level\n"
     ]
    }
   ],
   "source": [
    "#%% Teste de Vuong (definição da função)\n",
    "\n",
    "# VUONG, Q. H. Likelihood ratio tests for model selection and non-nested\n",
    "#hypotheses. Econometrica, v. 57, n. 2, p. 307-333, 1989.\n",
    "\n",
    "# Definição de função para elaboração do teste de Vuong\n",
    "# Autores: Luiz Paulo Fávero e Helder Prado Santos\n",
    "\n",
    "def vuong_test(m1, m2):\n",
    "\n",
    "    from scipy.stats import norm    \n",
    "\n",
    "    if m1.__class__.__name__ == \"GLMResultsWrapper\":\n",
    "        \n",
    "        glm_family = modelo_poisson.model.family\n",
    "\n",
    "        X = pd.DataFrame(data=m1.model.exog, columns=m1.model.exog_names)\n",
    "        y = pd.Series(m1.model.endog, name=m1.model.endog_names)\n",
    "\n",
    "        if glm_family.__class__.__name__ == \"Poisson\":\n",
    "            m1 = Poisson(endog=y, exog=X).fit()\n",
    "            \n",
    "        if glm_family.__class__.__name__ == \"NegativeBinomial\":\n",
    "            m1 = NegativeBinomial(endog=y, exog=X, loglike_method='nb2').fit()\n",
    "\n",
    "    supported_models = [ZeroInflatedPoisson,ZeroInflatedNegativeBinomialP,Poisson,NegativeBinomial]\n",
    "    \n",
    "    if type(m1.model) not in supported_models:\n",
    "        raise ValueError(f\"Model type not supported for first parameter. List of supported models: (ZeroInflatedPoisson, ZeroInflatedNegativeBinomialP, Poisson, NegativeBinomial) from statsmodels discrete collection.\")\n",
    "        \n",
    "    if type(m2.model) not in supported_models:\n",
    "        raise ValueError(f\"Model type not supported for second parameter. List of supported models: (ZeroInflatedPoisson, ZeroInflatedNegativeBinomialP, Poisson, NegativeBinomial) from statsmodels discrete collection.\")\n",
    "    \n",
    "    # Extração das variáveis dependentes dos modelos\n",
    "    m1_y = m1.model.endog\n",
    "    m2_y = m2.model.endog\n",
    "\n",
    "    m1_n = len(m1_y)\n",
    "    m2_n = len(m2_y)\n",
    "\n",
    "    if m1_n == 0 or m2_n == 0:\n",
    "        raise ValueError(\"Could not extract dependent variables from models.\")\n",
    "\n",
    "    if m1_n != m2_n:\n",
    "        raise ValueError(\"Models appear to have different numbers of observations.\\n\"\n",
    "                         f\"Model 1 has {m1_n} observations.\\n\"\n",
    "                         f\"Model 2 has {m2_n} observations.\")\n",
    "\n",
    "    if np.any(m1_y != m2_y):\n",
    "        raise ValueError(\"Models appear to have different values on dependent variables.\")\n",
    "        \n",
    "    m1_linpred = pd.DataFrame(m1.predict(which=\"prob\"))\n",
    "    m2_linpred = pd.DataFrame(m2.predict(which=\"prob\"))        \n",
    "\n",
    "    m1_probs = np.repeat(np.nan, m1_n)\n",
    "    m2_probs = np.repeat(np.nan, m2_n)\n",
    "\n",
    "    which_col_m1 = [list(m1_linpred.columns).index(x) if x in list(m1_linpred.columns) else None for x in m1_y]    \n",
    "    which_col_m2 = [list(m2_linpred.columns).index(x) if x in list(m2_linpred.columns) else None for x in m2_y]\n",
    "\n",
    "    for i, v in enumerate(m1_probs):\n",
    "        m1_probs[i] = m1_linpred.iloc[i, which_col_m1[i]]\n",
    "\n",
    "    for i, v in enumerate(m2_probs):\n",
    "        m2_probs[i] = m2_linpred.iloc[i, which_col_m2[i]]\n",
    "\n",
    "    lm1p = np.log(m1_probs)\n",
    "    lm2p = np.log(m2_probs)\n",
    "\n",
    "    m = lm1p - lm2p\n",
    "\n",
    "    v = np.sum(m) / (np.std(m) * np.sqrt(len(m)))\n",
    "\n",
    "    pval = 1 - norm.cdf(v) if v > 0 else norm.cdf(v)\n",
    "\n",
    "    print(\"Vuong Non-Nested Hypothesis Test-Statistic (Raw):\")\n",
    "    print(f\"Vuong z-statistic: {round(v, 3)}\")\n",
    "    print(f\"p-value: {pval:.3f}\")\n",
    "    print(\"\")\n",
    "    print(\"==================Result======================== \\n\")\n",
    "    if pval <= 0.05:\n",
    "        print(\"H1: Indicates inflation of zeros at 95% confidence level\")\n",
    "    else:\n",
    "        print(\"H0: Indicates no inflation of zeros at 95% confidence level\")\n",
    "\n",
    "#%% Teste de Vuong (aplicação aos dados)\n",
    "\n",
    "vuong_test(modelo_zip, modelo_poisson)\n",
    "\n",
    "# O resultado teste evidencia a inflação de zeros"
   ]
  },
  {
   "cell_type": "code",
   "execution_count": 22,
   "metadata": {},
   "outputs": [
    {
     "name": "stdout",
     "output_type": "stream",
     "text": [
      "χ²: 385.69\n",
      "p-valor: 0.0\n",
      "H1: Modelos diferentes, favorecendo aquele com a maior Log-Likelihood\n"
     ]
    }
   ],
   "source": [
    "#%% Teste de razão de verossimilhança\n",
    "\n",
    "# Definição da função 'lrtest'\n",
    "def lrtest(modelos):\n",
    "    modelo_1 = modelos[0]\n",
    "    llk_1 = modelo_1.llnull\n",
    "    llk_2 = modelo_1.llf\n",
    "    \n",
    "    if len(modelos)>1:\n",
    "        llk_1 = modelo_1.llf\n",
    "        llk_2 = modelos[1].llf\n",
    "    LR_statistic = -2*(llk_1-llk_2)\n",
    "    p_val = stats.chi2.sf(LR_statistic, 3)\n",
    "    print(f\"χ²: {round(LR_statistic,2)}\"), print(f\"p-valor: {round(p_val,2)}\")\n",
    "    if p_val <= 0.05:\n",
    "        print(\"H1: Modelos diferentes, favorecendo aquele com a maior Log-Likelihood\")\n",
    "    else:\n",
    "        print(\"H0: Modelos com log-likelihoods que não são estatisticamente diferentes ao nível de confiança de 95%\")\n",
    "        \n",
    "# Teste de razão de verossimilhança: Poisson GLM e ZI Poisson\n",
    "lrtest([modelo_poisson, modelo_zip])"
   ]
  },
  {
   "cell_type": "code",
   "execution_count": 23,
   "metadata": {},
   "outputs": [
    {
     "name": "stdout",
     "output_type": "stream",
     "text": [
      "                     ZeroInflatedNegativeBinomialP Regression Results                    \n",
      "=========================================================================================\n",
      "Dep. Variable:                         acidentes   No. Observations:                  100\n",
      "Model:             ZeroInflatedNegativeBinomialP   Df Residuals:                       98\n",
      "Method:                                      MLE   Df Model:                            1\n",
      "Date:                           Mon, 07 Oct 2024   Pseudo R-squ.:                  0.1236\n",
      "Time:                                   20:48:38   Log-Likelihood:                -164.40\n",
      "converged:                                 False   LL-Null:                       -187.59\n",
      "Covariance Type:                       nonrobust   LLR p-value:                 9.801e-12\n",
      "===================================================================================\n",
      "                      coef    std err          z      P>|z|      [0.025      0.975]\n",
      "-----------------------------------------------------------------------------------\n",
      "inflate_const     -16.2373      5.727     -2.835      0.005     -27.462      -5.013\n",
      "inflate_idade       0.2882      0.100      2.885      0.004       0.092       0.484\n",
      "inflate_leiseca     2.8590      1.077      2.656      0.008       0.749       4.969\n",
      "const               0.0253      0.540      0.047      0.963      -1.034       1.084\n",
      "pop                 0.8662      0.262      3.304      0.001       0.352       1.380\n",
      "alpha               1.2712      0.399      3.187      0.001       0.490       2.053\n",
      "===================================================================================\n"
     ]
    }
   ],
   "source": [
    "#%% Modelo ZI Binomial Negativo\n",
    "\n",
    "# Estimando o modelo\n",
    "modelo_zibn = ZeroInflatedNegativeBinomialP(y, X1, exog_infl=X2,\n",
    "                                            inflation='logit').fit(method='nm', maxiter=1000)\n",
    "\n",
    "# Parâmetros do modelo\n",
    "print(modelo_zibn.summary())"
   ]
  },
  {
   "cell_type": "code",
   "execution_count": 24,
   "metadata": {},
   "outputs": [
    {
     "data": {
      "text/html": [
       "<div>\n",
       "<style scoped>\n",
       "    .dataframe tbody tr th:only-of-type {\n",
       "        vertical-align: middle;\n",
       "    }\n",
       "\n",
       "    .dataframe tbody tr th {\n",
       "        vertical-align: top;\n",
       "    }\n",
       "\n",
       "    .dataframe thead th {\n",
       "        text-align: right;\n",
       "    }\n",
       "</style>\n",
       "<table border=\"1\" class=\"dataframe\">\n",
       "  <thead>\n",
       "    <tr style=\"text-align: right;\">\n",
       "      <th></th>\n",
       "      <th>acidentes</th>\n",
       "      <th>pop</th>\n",
       "      <th>idade</th>\n",
       "      <th>leiseca</th>\n",
       "      <th>poisson_zi</th>\n",
       "      <th>poisson</th>\n",
       "      <th>bn_zi</th>\n",
       "    </tr>\n",
       "  </thead>\n",
       "  <tbody>\n",
       "    <tr>\n",
       "      <th>0</th>\n",
       "      <td>7</td>\n",
       "      <td>0.760693</td>\n",
       "      <td>49.51</td>\n",
       "      <td>0</td>\n",
       "      <td>2.389142</td>\n",
       "      <td>1.289001</td>\n",
       "      <td>1.739257</td>\n",
       "    </tr>\n",
       "    <tr>\n",
       "      <th>1</th>\n",
       "      <td>0</td>\n",
       "      <td>1.433687</td>\n",
       "      <td>51.93</td>\n",
       "      <td>0</td>\n",
       "      <td>2.660389</td>\n",
       "      <td>2.062777</td>\n",
       "      <td>2.772684</td>\n",
       "    </tr>\n",
       "    <tr>\n",
       "      <th>2</th>\n",
       "      <td>0</td>\n",
       "      <td>0.737124</td>\n",
       "      <td>60.00</td>\n",
       "      <td>0</td>\n",
       "      <td>0.529565</td>\n",
       "      <td>1.267950</td>\n",
       "      <td>0.501595</td>\n",
       "    </tr>\n",
       "  </tbody>\n",
       "</table>\n",
       "</div>"
      ],
      "text/plain": [
       "   acidentes       pop  idade  leiseca  poisson_zi   poisson     bn_zi\n",
       "0          7  0.760693  49.51        0    2.389142  1.289001  1.739257\n",
       "1          0  1.433687  51.93        0    2.660389  2.062777  2.772684\n",
       "2          0  0.737124  60.00        0    0.529565  1.267950  0.501595"
      ]
     },
     "execution_count": 24,
     "metadata": {},
     "output_type": "execute_result"
    }
   ],
   "source": [
    "# Interpretando o 'alpha'\n",
    "\n",
    "# Se o p-valor alpha < nível de sig., é estatisticamente diferente de zero\n",
    "# Portanto, observa-se superdispersão na variável dependente!\n",
    "\n",
    "# Valores preditos pelo modelo para observações da amostra\n",
    "acidentes['bn_zi'] = modelo_zibn.predict(X1, exog_infl=X2)\n",
    "\n",
    "acidentes.head(3)"
   ]
  },
  {
   "cell_type": "code",
   "execution_count": 25,
   "metadata": {},
   "outputs": [
    {
     "name": "stdout",
     "output_type": "stream",
     "text": [
      "Optimization terminated successfully.\n",
      "         Current function value: 1.848073\n",
      "         Iterations: 12\n",
      "         Function evaluations: 15\n",
      "         Gradient evaluations: 15\n",
      "                     NegativeBinomial Regression Results                      \n",
      "==============================================================================\n",
      "Dep. Variable:              acidentes   No. Observations:                  100\n",
      "Model:               NegativeBinomial   Df Residuals:                       98\n",
      "Method:                           MLE   Df Model:                            1\n",
      "Date:                Mon, 07 Oct 2024   Pseudo R-squ.:                 0.01594\n",
      "Time:                        20:49:23   Log-Likelihood:                -184.81\n",
      "converged:                       True   LL-Null:                       -187.80\n",
      "Covariance Type:            nonrobust   LLR p-value:                   0.01440\n",
      "==============================================================================\n",
      "                 coef    std err          z      P>|z|      [0.025      0.975]\n",
      "------------------------------------------------------------------------------\n",
      "Intercept     -0.4228      0.602     -0.702      0.483      -1.604       0.758\n",
      "pop            0.7729      0.310      2.493      0.013       0.165       1.381\n",
      "alpha          4.4854      0.927      4.838      0.000       2.668       6.303\n",
      "==============================================================================\n"
     ]
    }
   ],
   "source": [
    "#%% Modelo Binomial Negativo (comparação)\n",
    "\n",
    "modelo_bn = sm.NegativeBinomial.from_formula(formula='acidentes ~ pop', \n",
    "                                             data=acidentes).fit()\n",
    "\n",
    "# Parâmetros do modelo\n",
    "print(modelo_bn.summary())"
   ]
  },
  {
   "cell_type": "code",
   "execution_count": 26,
   "metadata": {},
   "outputs": [
    {
     "data": {
      "text/html": [
       "<div>\n",
       "<style scoped>\n",
       "    .dataframe tbody tr th:only-of-type {\n",
       "        vertical-align: middle;\n",
       "    }\n",
       "\n",
       "    .dataframe tbody tr th {\n",
       "        vertical-align: top;\n",
       "    }\n",
       "\n",
       "    .dataframe thead th {\n",
       "        text-align: right;\n",
       "    }\n",
       "</style>\n",
       "<table border=\"1\" class=\"dataframe\">\n",
       "  <thead>\n",
       "    <tr style=\"text-align: right;\">\n",
       "      <th></th>\n",
       "      <th>acidentes</th>\n",
       "      <th>pop</th>\n",
       "      <th>idade</th>\n",
       "      <th>leiseca</th>\n",
       "      <th>poisson_zi</th>\n",
       "      <th>poisson</th>\n",
       "      <th>bn_zi</th>\n",
       "      <th>bn</th>\n",
       "    </tr>\n",
       "  </thead>\n",
       "  <tbody>\n",
       "    <tr>\n",
       "      <th>0</th>\n",
       "      <td>7</td>\n",
       "      <td>0.760693</td>\n",
       "      <td>49.51</td>\n",
       "      <td>0</td>\n",
       "      <td>2.389142</td>\n",
       "      <td>1.289001</td>\n",
       "      <td>1.739257</td>\n",
       "      <td>1.179602</td>\n",
       "    </tr>\n",
       "    <tr>\n",
       "      <th>1</th>\n",
       "      <td>0</td>\n",
       "      <td>1.433687</td>\n",
       "      <td>51.93</td>\n",
       "      <td>0</td>\n",
       "      <td>2.660389</td>\n",
       "      <td>2.062777</td>\n",
       "      <td>2.772684</td>\n",
       "      <td>1.984488</td>\n",
       "    </tr>\n",
       "    <tr>\n",
       "      <th>2</th>\n",
       "      <td>0</td>\n",
       "      <td>0.737124</td>\n",
       "      <td>60.00</td>\n",
       "      <td>0</td>\n",
       "      <td>0.529565</td>\n",
       "      <td>1.267950</td>\n",
       "      <td>0.501595</td>\n",
       "      <td>1.158307</td>\n",
       "    </tr>\n",
       "  </tbody>\n",
       "</table>\n",
       "</div>"
      ],
      "text/plain": [
       "   acidentes       pop  idade  leiseca  poisson_zi   poisson     bn_zi  \\\n",
       "0          7  0.760693  49.51        0    2.389142  1.289001  1.739257   \n",
       "1          0  1.433687  51.93        0    2.660389  2.062777  2.772684   \n",
       "2          0  0.737124  60.00        0    0.529565  1.267950  0.501595   \n",
       "\n",
       "         bn  \n",
       "0  1.179602  \n",
       "1  1.984488  \n",
       "2  1.158307  "
      ]
     },
     "execution_count": 26,
     "metadata": {},
     "output_type": "execute_result"
    }
   ],
   "source": [
    "# Interpretando o 'alpha'\n",
    "\n",
    "# Se o p-valor alpha < nível de sig., é estatisticamente diferente de zero\n",
    "# Portanto, observa-se superdispersão na variável dependente!\n",
    "\n",
    "# Valores preditos pelo modelo para observações da amostra\n",
    "acidentes['bn'] = modelo_bn.predict()\n",
    "\n",
    "acidentes.head(3)"
   ]
  },
  {
   "cell_type": "code",
   "execution_count": 27,
   "metadata": {},
   "outputs": [
    {
     "name": "stdout",
     "output_type": "stream",
     "text": [
      "χ²: 40.81\n",
      "p-valor: 0.0\n",
      "H1: Modelos diferentes, favorecendo aquele com a maior Log-Likelihood\n"
     ]
    }
   ],
   "source": [
    "#%% Teste de razão de verossimilhança\n",
    "\n",
    "# Definição da função 'lrtest'\n",
    "def lrtest(modelos):\n",
    "    modelo_1 = modelos[0]\n",
    "    llk_1 = modelo_1.llnull\n",
    "    llk_2 = modelo_1.llf\n",
    "    \n",
    "    if len(modelos)>1:\n",
    "        llk_1 = modelo_1.llf\n",
    "        llk_2 = modelos[1].llf\n",
    "    LR_statistic = -2*(llk_1-llk_2)\n",
    "    p_val = stats.chi2.sf(LR_statistic, 3)\n",
    "    print(f\"χ²: {round(LR_statistic,2)}\"), print(f\"p-valor: {round(p_val,2)}\")\n",
    "    if p_val <= 0.05:\n",
    "        print(\"H1: Modelos diferentes, favorecendo aquele com a maior Log-Likelihood\")\n",
    "    else:\n",
    "        print(\"H0: Modelos com log-likelihoods que não são estatisticamente diferentes ao nível de confiança de 95%\")\n",
    "\n",
    "# Teste de razão de verossimilhança: Binomial Negativo GLM e ZIBN\n",
    "lrtest([modelo_bn, modelo_zibn])"
   ]
  },
  {
   "cell_type": "code",
   "execution_count": 28,
   "metadata": {},
   "outputs": [
    {
     "name": "stdout",
     "output_type": "stream",
     "text": [
      "χ²: 183.29\n",
      "p-valor: 0.0\n",
      "H1: Modelos diferentes, favorecendo aquele com a maior Log-Likelihood\n"
     ]
    }
   ],
   "source": [
    "#%% Teste de razão de verossimilhança\n",
    "\n",
    "# Definição da função 'lrtest'\n",
    "def lrtest(modelos):\n",
    "    modelo_1 = modelos[0]\n",
    "    llk_1 = modelo_1.llnull\n",
    "    llk_2 = modelo_1.llf\n",
    "    \n",
    "    if len(modelos)>1:\n",
    "        llk_1 = modelo_1.llf\n",
    "        llk_2 = modelos[1].llf\n",
    "    LR_statistic = -2*(llk_1-llk_2)\n",
    "    p_val = stats.chi2.sf(LR_statistic, 1)\n",
    "    print(f\"χ²: {round(LR_statistic,2)}\"), print(f\"p-valor: {round(p_val,2)}\")\n",
    "    if p_val <= 0.05:\n",
    "        print(\"H1: Modelos diferentes, favorecendo aquele com a maior Log-Likelihood\")\n",
    "    else:\n",
    "        print(\"H0: Modelos com log-likelihoods que não são estatisticamente diferentes ao nível de confiança de 95%\")\n",
    "\n",
    "# Teste de razão de verossimilhança: ZIP e ZIBN\n",
    "lrtest([modelo_zip, modelo_zibn])"
   ]
  },
  {
   "cell_type": "code",
   "execution_count": 29,
   "metadata": {},
   "outputs": [
    {
     "data": {
      "image/png": "[encoded data removed]",
      "text/plain": [
       "<Figure size 900x600 with 1 Axes>"
      ]
     },
     "metadata": {},
     "output_type": "display_data"
    }
   ],
   "source": [
    "#%% Visualizando graficamente as loglik\n",
    "\n",
    "# Definição do dataframe com os modelos e respectivos LogLiks\n",
    "df_llf = pd.DataFrame({'modelo':['ZIP','ZIBN', 'Poisson', 'BN'],\n",
    "                       'loglik':[modelo_zip.llf, \n",
    "                                 modelo_zibn.llf, \n",
    "                                 modelo_poisson.llf, \n",
    "                                 modelo_bn.llf]}).sort_values(by=['loglik'])\n",
    "\n",
    "# Plotagem propriamente dita\n",
    "fig, ax = plt.subplots(figsize=(9,6))\n",
    "\n",
    "c = ['lightsalmon', 'darksalmon', 'coral', 'orangered']\n",
    "\n",
    "ax1 = ax.barh(df_llf.modelo, df_llf.loglik, color = c)\n",
    "ax.bar_label(ax1, label_type='center', color='snow', fontsize=20, weight='bold')\n",
    "ax.set_ylabel(\"Modelo Proposto\", fontsize=18)\n",
    "ax.set_xlabel(\"LogLik\", fontsize=18)\n",
    "ax.tick_params(axis='y', labelsize=16)\n",
    "ax.tick_params(axis='x', labelsize=16)\n",
    "plt.show()"
   ]
  },
  {
   "cell_type": "code",
   "execution_count": 30,
   "metadata": {},
   "outputs": [
    {
     "name": "stdout",
     "output_type": "stream",
     "text": [
      "Quant. Estimada de Acidentes por Semana: 3.46\n"
     ]
    }
   ],
   "source": [
    "#%% Realizando predições no modelo ZIBN\n",
    "\n",
    "pred_zibn = modelo_zibn.predict(pd.DataFrame({'const': [1],\n",
    "                                              'pop': [1.5]}),\n",
    "                                exog_infl=pd.DataFrame({'const': [1],\n",
    "                                                        'idade': [38],\n",
    "                                                        'leiseca': [1]}))\n",
    "\n",
    "print(f\"Quant. Estimada de Acidentes por Semana: {round(pred_zibn[0], 2)}\")"
   ]
  },
  {
   "cell_type": "code",
   "execution_count": 33,
   "metadata": {},
   "outputs": [
    {
     "data": {
      "image/png": "[encoded data removed]",
      "text/plain": [
       "<Figure size 1200x900 with 1 Axes>"
      ]
     },
     "metadata": {},
     "output_type": "display_data"
    }
   ],
   "source": [
    "#%% Comparando as previsões dos modelos\n",
    "\n",
    "plt.figure(figsize=(12,9))\n",
    "sns.regplot(data=acidentes, x=acidentes['pop'], y=acidentes['poisson'],\n",
    "            ci=None, marker='o', lowess=True, scatter=False,\n",
    "            label='Poisson',\n",
    "            line_kws={'color':'orange', 'linewidth':4})\n",
    "sns.regplot(data=acidentes, x=acidentes['pop'], y=acidentes['poisson_zi'],\n",
    "            ci=None, marker='o', lowess=True, scatter=False,\n",
    "            label='ZIP',\n",
    "            line_kws={'color':'darkorchid', 'linewidth':4})\n",
    "sns.regplot(data=acidentes, x=acidentes['pop'], y=acidentes['bn'],\n",
    "            ci=None, marker='o', lowess=True, scatter=False,\n",
    "            label='BNeg',\n",
    "            line_kws={'color':'limegreen', 'linewidth':4})\n",
    "sns.regplot(data=acidentes, x=acidentes['pop'], y=acidentes['bn_zi'],\n",
    "            ci=None, marker='o', lowess=True, scatter=False,\n",
    "            label='ZINB',\n",
    "            line_kws={'color':'dodgerblue', 'linewidth':4})\n",
    "sns.regplot(data=acidentes, x=acidentes['pop'], y=acidentes['acidentes'],\n",
    "            ci=None, marker='o', fit_reg=False,\n",
    "            scatter_kws={'color':'black', 's':100, 'alpha':0.5})\n",
    "plt.xlabel('População urbana (x milhão)', fontsize=17)\n",
    "plt.ylabel('Quantidade de acidentes de trânsito na última semana', fontsize=17)\n",
    "plt.legend(fontsize=16)\n",
    "plt.show()\n",
    "\n",
    "#%% Fim!"
   ]
  }
 ],
 "metadata": {
  "kernelspec": {
   "display_name": "myenv",
   "language": "python",
   "name": "python3"
  },
  "language_info": {
   "codemirror_mode": {
    "name": "ipython",
    "version": 3
   },
   "file_extension": ".py",
   "mimetype": "text/x-python",
   "name": "python",
   "nbconvert_exporter": "python",
   "pygments_lexer": "ipython3",
   "version": "3.10.11"
  }
 },
 "nbformat": 4,
 "nbformat_minor": 2
}
