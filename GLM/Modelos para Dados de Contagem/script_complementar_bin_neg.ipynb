{
 "cells": [
  {
   "cell_type": "code",
   "execution_count": 28,
   "metadata": {},
   "outputs": [],
   "source": [
    "import pandas as pd\n",
    "import numpy as np\n",
    "import statsmodels.api as sm\n",
    "from statsmodels.discrete.count_model import ZeroInflatedNegativeBinomialP\n",
    "\n",
    "import warnings\n",
    "warnings.filterwarnings('ignore')"
   ]
  },
  {
   "cell_type": "markdown",
   "metadata": {},
   "source": [
    "##### modelo_bneg_direto"
   ]
  },
  {
   "cell_type": "code",
   "execution_count": 29,
   "metadata": {},
   "outputs": [],
   "source": [
    "# Fisman, R.; Miguel, E. Corruption, Norms, and Legal Enforcement: Evidence\n",
    "#from Diplomatic Parking Tickets.\n",
    "# Journal of Political Economy, v. 15, n. 6, p. 1020-1048, 2007.\n",
    "# https://www.journals.uchicago.edu/doi/abs/10.1086/527495\n",
    "\n",
    "df_corruption = pd.read_csv('data/corruption.csv', delimiter=',')"
   ]
  },
  {
   "cell_type": "code",
   "execution_count": 30,
   "metadata": {},
   "outputs": [
    {
     "name": "stdout",
     "output_type": "stream",
     "text": [
      "Optimization terminated successfully.\n",
      "         Current function value: 1.904031\n",
      "         Iterations: 19\n",
      "         Function evaluations: 23\n",
      "         Gradient evaluations: 23\n",
      "                     NegativeBinomial Regression Results                      \n",
      "==============================================================================\n",
      "Dep. Variable:             violations   No. Observations:                  298\n",
      "Model:               NegativeBinomial   Df Residuals:                      294\n",
      "Method:                           MLE   Df Model:                            3\n",
      "Date:                Thu, 26 Sep 2024   Pseudo R-squ.:                  0.1549\n",
      "Time:                        21:20:43   Log-Likelihood:                -567.40\n",
      "converged:                       True   LL-Null:                       -671.37\n",
      "Covariance Type:            nonrobust   LLR p-value:                 8.088e-45\n",
      "===============================================================================\n",
      "                  coef    std err          z      P>|z|      [0.025      0.975]\n",
      "-------------------------------------------------------------------------------\n",
      "Intercept       1.9469      0.205      9.477      0.000       1.544       2.350\n",
      "post[T.yes]    -4.2746      0.266    -16.065      0.000      -4.796      -3.753\n",
      "staff           0.0400      0.014      2.945      0.003       0.013       0.067\n",
      "corruption      0.4527      0.133      3.396      0.001       0.191       0.714\n",
      "alpha           2.0963      0.243      8.614      0.000       1.619       2.573\n",
      "===============================================================================\n"
     ]
    }
   ],
   "source": [
    "# Modo direto de estimação do modelo binomial negativo:\n",
    "    \n",
    "modelo_bneg_direto = sm.NegativeBinomial.from_formula('violations ~ staff + post + corruption',\n",
    "                                                      data=df_corruption).fit()\n",
    "\n",
    "print(modelo_bneg_direto.summary())"
   ]
  },
  {
   "cell_type": "markdown",
   "metadata": {},
   "source": [
    "Alpha é estatísticamente significante (P>|z| < 0.05). Isso é um diagnóstico de superdispersão dos dados (cauda longa)!"
   ]
  },
  {
   "cell_type": "code",
   "execution_count": 31,
   "metadata": {},
   "outputs": [
    {
     "data": {
      "text/plain": [
       "3008.7780000000002"
      ]
     },
     "execution_count": 31,
     "metadata": {},
     "output_type": "execute_result"
    }
   ],
   "source": [
    "# Teste de razão de verossimilhança\n",
    "-2*(-2071.79 - (-567.401))"
   ]
  },
  {
   "cell_type": "code",
   "execution_count": 32,
   "metadata": {},
   "outputs": [
    {
     "data": {
      "text/plain": [
       "22.05702179606651"
      ]
     },
     "execution_count": 32,
     "metadata": {},
     "output_type": "execute_result"
    }
   ],
   "source": [
    "# Cálculo manual do fit do 'modelo_bneg' antes da vigência da lei\n",
    "\n",
    "modelo_bneg_direto.params\n",
    "\n",
    "np.exp(1.946890 - 4.274634*0 + 0.040018*23 + 0.452654*0.5)"
   ]
  },
  {
   "cell_type": "markdown",
   "metadata": {},
   "source": [
    "##### modelo_bneg_direto2"
   ]
  },
  {
   "cell_type": "code",
   "execution_count": 33,
   "metadata": {},
   "outputs": [],
   "source": [
    "# Gerando novo dataframe ('df_corruption2') com seleção das variáveis originais\n",
    "df_corruption2 = df_corruption.iloc[:, 0:6]\n",
    "\n",
    "# Seleção das observações com 'violations' menores ou iguais a 3\n",
    "df_corruption2 = df_corruption2[df_corruption2['violations'] <= 3]"
   ]
  },
  {
   "cell_type": "code",
   "execution_count": 34,
   "metadata": {},
   "outputs": [
    {
     "name": "stdout",
     "output_type": "stream",
     "text": [
      "Optimization terminated successfully.\n",
      "         Current function value: 0.800565\n",
      "         Iterations: 21\n",
      "         Function evaluations: 25\n",
      "         Gradient evaluations: 25\n",
      "                     NegativeBinomial Regression Results                      \n",
      "==============================================================================\n",
      "Dep. Variable:             violations   No. Observations:                  224\n",
      "Model:               NegativeBinomial   Df Residuals:                      220\n",
      "Method:                           MLE   Df Model:                            3\n",
      "Date:                Thu, 26 Sep 2024   Pseudo R-squ.:                  0.1809\n",
      "Time:                        21:20:43   Log-Likelihood:                -179.33\n",
      "converged:                       True   LL-Null:                       -218.94\n",
      "Covariance Type:            nonrobust   LLR p-value:                 4.484e-17\n",
      "===============================================================================\n",
      "                  coef    std err          z      P>|z|      [0.025      0.975]\n",
      "-------------------------------------------------------------------------------\n",
      "Intercept       0.1241      0.152      0.816      0.415      -0.174       0.422\n",
      "post[T.yes]    -2.0604      0.231     -8.911      0.000      -2.514      -1.607\n",
      "staff           0.0109      0.010      1.044      0.296      -0.010       0.031\n",
      "corruption      0.3620      0.110      3.302      0.001       0.147       0.577\n",
      "alpha           0.0929      0.188      0.494      0.621      -0.275       0.461\n",
      "===============================================================================\n"
     ]
    }
   ],
   "source": [
    "# Modo direto de estimação do modelo binomial negativo 2:\n",
    "    \n",
    "modelo_bneg_direto2 = sm.NegativeBinomial.from_formula('violations ~ staff + post + corruption',\n",
    "                                                      data=df_corruption2).fit()\n",
    "\n",
    "print(modelo_bneg_direto2.summary())"
   ]
  },
  {
   "cell_type": "markdown",
   "metadata": {},
   "source": [
    "Alpha NÃO é estatísticamente significante (P>|z| > 0.05). Isso é um diagnóstico de AUSÊNCIA de superdispersão dos dados (ou presença de equidisperção)!"
   ]
  },
  {
   "cell_type": "code",
   "execution_count": 35,
   "metadata": {},
   "outputs": [
    {
     "data": {
      "text/plain": [
       "17.802536661347645"
      ]
     },
     "execution_count": 35,
     "metadata": {},
     "output_type": "execute_result"
    }
   ],
   "source": [
    "modelo_bneg_direto2.params\n",
    "\n",
    "# Cálculo manual do fit do 'modelo_bneg_direto2' antes da vigência da lei\n",
    "# igual à lousinha\n",
    "\n",
    "(1 - (1/(1 + np.exp(-(-1.611649 - 0.952315*0.5)))))*\\\n",
    "    (np.exp(2.488877 + 0.020020*23 + 0.093722*0.5 - 4.287916*0))"
   ]
  },
  {
   "cell_type": "markdown",
   "metadata": {},
   "source": [
    "##### modelo_zinb"
   ]
  },
  {
   "cell_type": "code",
   "execution_count": 36,
   "metadata": {},
   "outputs": [
    {
     "name": "stdout",
     "output_type": "stream",
     "text": [
      "         Current function value: 1.870015\n",
      "         Iterations: 35\n",
      "         Function evaluations: 39\n",
      "         Gradient evaluations: 39\n"
     ]
    }
   ],
   "source": [
    "# Estimação do modelo ZINB pela função 'ZeroInflatedNegativeBinomialP' do pacote\n",
    "#'statsmodels.discrete.count_model'\n",
    "\n",
    "# Definição da variável dependente (voltando ao dataset 'df_corruption')\n",
    "y = df_corruption['violations']\n",
    "\n",
    "# Definição das variáveis preditoras que entrarão no componente de contagem\n",
    "x1 = df_corruption[['staff','post','corruption']]\n",
    "X1 = sm.add_constant(x1)\n",
    "\n",
    "# Dummização da variável 'post'\n",
    "# Se estimarmos o modelo sem dummizar as variáveis categóricas, o modelo retorna\n",
    "#um erro\n",
    "X1 = pd.get_dummies(X1, columns=['post'], dtype=int, drop_first=True)\n",
    "\n",
    "# Definição das variáveis preditoras que entrarão no componente logit (inflate)\n",
    "x2 = df_corruption[['corruption']]\n",
    "X2 = sm.add_constant(x2)\n",
    "\n",
    "# O argumento 'exog_infl' corresponde às variáveis que entram no componente\n",
    "#logit (inflate)\n",
    "modelo_zinb = ZeroInflatedNegativeBinomialP(y, X1, exog_infl=X2,\n",
    "                                            inflation='logit').fit()"
   ]
  },
  {
   "cell_type": "code",
   "execution_count": 37,
   "metadata": {},
   "outputs": [
    {
     "data": {
      "text/plain": [
       "inflate_const        -17.985682\n",
       "inflate_corruption    -8.110426\n",
       "const                  2.032397\n",
       "staff                  0.041076\n",
       "corruption             0.181459\n",
       "post_yes              -4.263797\n",
       "alpha                  1.856016\n",
       "dtype: float64"
      ]
     },
     "execution_count": 37,
     "metadata": {},
     "output_type": "execute_result"
    }
   ],
   "source": [
    "modelo_zinb.params"
   ]
  },
  {
   "cell_type": "code",
   "execution_count": 38,
   "metadata": {},
   "outputs": [
    {
     "data": {
      "text/plain": [
       "21.49616398112116"
      ]
     },
     "execution_count": 38,
     "metadata": {},
     "output_type": "execute_result"
    }
   ],
   "source": [
    "# Cálculo manual do fit do 'modelo_zinb' antes da vigência da lei\n",
    "\n",
    "(1 - (1/(1 + np.exp(-(-17.985682 - 8.110426*0.5)))))*\\\n",
    "    (np.exp(2.032397 + 0.041076*23 + 0.181459*0.5 - 4.263797*0))"
   ]
  }
 ],
 "metadata": {
  "kernelspec": {
   "display_name": "myenv",
   "language": "python",
   "name": "python3"
  },
  "language_info": {
   "codemirror_mode": {
    "name": "ipython",
    "version": 3
   },
   "file_extension": ".py",
   "mimetype": "text/x-python",
   "name": "python",
   "nbconvert_exporter": "python",
   "pygments_lexer": "ipython3",
   "version": "3.10.11"
  }
 },
 "nbformat": 4,
 "nbformat_minor": 2
}
