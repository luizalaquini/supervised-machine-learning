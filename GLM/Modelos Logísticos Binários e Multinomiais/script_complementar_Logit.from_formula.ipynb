{
 "cells": [
  {
   "cell_type": "markdown",
   "metadata": {},
   "source": [
    "Outra maneira de visualizar o summary:"
   ]
  },
  {
   "cell_type": "code",
   "execution_count": 17,
   "metadata": {},
   "outputs": [],
   "source": [
    "import pandas as pd\n",
    "import numpy as np\n",
    "import statsmodels.api as sm\n",
    "from scipy import stats"
   ]
  },
  {
   "cell_type": "code",
   "execution_count": 18,
   "metadata": {},
   "outputs": [
    {
     "data": {
      "text/html": [
       "<div>\n",
       "<style scoped>\n",
       "    .dataframe tbody tr th:only-of-type {\n",
       "        vertical-align: middle;\n",
       "    }\n",
       "\n",
       "    .dataframe tbody tr th {\n",
       "        vertical-align: top;\n",
       "    }\n",
       "\n",
       "    .dataframe thead th {\n",
       "        text-align: right;\n",
       "    }\n",
       "</style>\n",
       "<table border=\"1\" class=\"dataframe\">\n",
       "  <thead>\n",
       "    <tr style=\"text-align: right;\">\n",
       "      <th></th>\n",
       "      <th>estudante</th>\n",
       "      <th>atrasado</th>\n",
       "      <th>dist</th>\n",
       "      <th>sem</th>\n",
       "    </tr>\n",
       "  </thead>\n",
       "  <tbody>\n",
       "    <tr>\n",
       "      <th>0</th>\n",
       "      <td>Gabriela</td>\n",
       "      <td>0</td>\n",
       "      <td>12.5</td>\n",
       "      <td>7</td>\n",
       "    </tr>\n",
       "    <tr>\n",
       "      <th>1</th>\n",
       "      <td>Patricia</td>\n",
       "      <td>0</td>\n",
       "      <td>13.3</td>\n",
       "      <td>10</td>\n",
       "    </tr>\n",
       "  </tbody>\n",
       "</table>\n",
       "</div>"
      ],
      "text/plain": [
       "  estudante  atrasado  dist  sem\n",
       "0  Gabriela         0  12.5    7\n",
       "1  Patricia         0  13.3   10"
      ]
     },
     "execution_count": 18,
     "metadata": {},
     "output_type": "execute_result"
    }
   ],
   "source": [
    "df_atrasado = pd.read_csv('data/atrasado.csv')\n",
    "df_atrasado.head(2)"
   ]
  },
  {
   "cell_type": "code",
   "execution_count": 19,
   "metadata": {},
   "outputs": [
    {
     "name": "stdout",
     "output_type": "stream",
     "text": [
      "Optimization terminated successfully.\n",
      "         Current function value: 0.504664\n",
      "         Iterations 9\n",
      "                           Logit Regression Results                           \n",
      "==============================================================================\n",
      "Dep. Variable:               atrasado   No. Observations:                  100\n",
      "Model:                          Logit   Df Residuals:                       97\n",
      "Method:                           MLE   Df Model:                            2\n",
      "Date:                Thu, 05 Sep 2024   Pseudo R-squ.:                  0.2544\n",
      "Time:                        21:28:49   Log-Likelihood:                -50.466\n",
      "converged:                       True   LL-Null:                       -67.686\n",
      "Covariance Type:            nonrobust   LLR p-value:                 3.324e-08\n",
      "==============================================================================\n",
      "                 coef    std err          z      P>|z|      [0.025      0.975]\n",
      "------------------------------------------------------------------------------\n",
      "Intercept    -26.1665      8.442     -3.100      0.002     -42.713      -9.620\n",
      "dist           0.1904      0.076      2.493      0.013       0.041       0.340\n",
      "sem            2.3629      0.795      2.972      0.003       0.804       3.921\n",
      "==============================================================================\n"
     ]
    }
   ],
   "source": [
    "# Estimação de um modelo logístico binário pela função 'Logit.from_formula'\n",
    "#('statsmodels')\n",
    "\n",
    "modelo_atrasos2 = sm.Logit.from_formula('atrasado ~ dist + sem',\n",
    "                                        data=df_atrasado).fit() # Análogo ao OLS.from_formula\n",
    "\n",
    "# Parâmetros do 'modelo_atrasos2'\n",
    "print(modelo_atrasos2.summary())\n"
   ]
  },
  {
   "cell_type": "markdown",
   "metadata": {},
   "source": [
    "MLE = *Maximum Likelyood Estimation* <br>\n",
    "LLR = *Log-Likelyhood Ratio* - Análogo ao p-value do F (onde aqui não é o F e sim um 'chi'^2 porque a y é qualitatva)"
   ]
  },
  {
   "cell_type": "code",
   "execution_count": 20,
   "metadata": {},
   "outputs": [
    {
     "data": {
      "text/plain": [
       "-50.46637954189868"
      ]
     },
     "execution_count": 20,
     "metadata": {},
     "output_type": "execute_result"
    }
   ],
   "source": [
    "# Loglike do 'modelo_atrasos2'\n",
    "modelo_atrasos2.llf # loglike function"
   ]
  },
  {
   "cell_type": "code",
   "execution_count": 21,
   "metadata": {},
   "outputs": [
    {
     "name": "stdout",
     "output_type": "stream",
     "text": [
      "Optimization terminated successfully.\n",
      "         Current function value: 0.676859\n",
      "         Iterations 4\n",
      "                           Logit Regression Results                           \n",
      "==============================================================================\n",
      "Dep. Variable:               atrasado   No. Observations:                  100\n",
      "Model:                          Logit   Df Residuals:                       99\n",
      "Method:                           MLE   Df Model:                            0\n",
      "Date:                Thu, 05 Sep 2024   Pseudo R-squ.:               1.389e-10\n",
      "Time:                        21:28:49   Log-Likelihood:                -67.686\n",
      "converged:                       True   LL-Null:                       -67.686\n",
      "Covariance Type:            nonrobust   LLR p-value:                       nan\n",
      "==============================================================================\n",
      "                 coef    std err          z      P>|z|      [0.025      0.975]\n",
      "------------------------------------------------------------------------------\n",
      "Intercept      0.3640      0.203      1.790      0.073      -0.035       0.762\n",
      "==============================================================================\n"
     ]
    }
   ],
   "source": [
    "# Cálculo do chi2 (análogo ao Teste F da estimação por OLS)\n",
    "\n",
    "modelo_nulo = sm.Logit.from_formula('atrasado ~ 1',\n",
    "                                        data=df_atrasado).fit()\n",
    "\n",
    "# Parâmetros do 'modelo_nulo'\n",
    "print(modelo_nulo.summary())"
   ]
  },
  {
   "cell_type": "code",
   "execution_count": 22,
   "metadata": {},
   "outputs": [
    {
     "data": {
      "text/plain": [
       "-67.68585467349509"
      ]
     },
     "execution_count": 22,
     "metadata": {},
     "output_type": "execute_result"
    }
   ],
   "source": [
    "# Loglike do 'modelo_nulo'\n",
    "modelo_nulo.llf"
   ]
  },
  {
   "cell_type": "code",
   "execution_count": 23,
   "metadata": {},
   "outputs": [
    {
     "data": {
      "text/plain": [
       "34.43895026319281"
      ]
     },
     "execution_count": 23,
     "metadata": {},
     "output_type": "execute_result"
    }
   ],
   "source": [
    "chi2 = -2*(modelo_nulo.llf - modelo_atrasos2.llf)\n",
    "chi2"
   ]
  },
  {
   "cell_type": "code",
   "execution_count": 24,
   "metadata": {},
   "outputs": [
    {
     "data": {
      "text/plain": [
       "3.324122110588685e-08"
      ]
     },
     "execution_count": 24,
     "metadata": {},
     "output_type": "execute_result"
    }
   ],
   "source": [
    "pvalue = stats.distributions.chi2.sf(chi2, 2)\n",
    "pvalue"
   ]
  },
  {
   "cell_type": "code",
   "execution_count": 25,
   "metadata": {},
   "outputs": [
    {
     "data": {
      "text/plain": [
       "0.2544028617893678"
      ]
     },
     "execution_count": 25,
     "metadata": {},
     "output_type": "execute_result"
    }
   ],
   "source": [
    "# Pseudo R² de McFadden (Prêmio Nobel de Economia em 2000)\n",
    "\n",
    "pseudor2 = ((-2*modelo_nulo.llf)-(-2*modelo_atrasos2.llf))/(-2*modelo_nulo.llf)\n",
    "pseudor2"
   ]
  },
  {
   "cell_type": "code",
   "execution_count": 26,
   "metadata": {},
   "outputs": [
    {
     "data": {
      "text/plain": [
       "106.93275908379736"
      ]
     },
     "execution_count": 26,
     "metadata": {},
     "output_type": "execute_result"
    }
   ],
   "source": [
    "# AIC (Akaike Info Criterion)\n",
    "aic = -2*(modelo_atrasos2.llf) + 2*(3)\n",
    "aic"
   ]
  },
  {
   "cell_type": "code",
   "execution_count": 27,
   "metadata": {},
   "outputs": [
    {
     "data": {
      "text/plain": [
       "106.93275908379736"
      ]
     },
     "execution_count": 27,
     "metadata": {},
     "output_type": "execute_result"
    }
   ],
   "source": [
    "modelo_atrasos2.aic"
   ]
  },
  {
   "cell_type": "code",
   "execution_count": 28,
   "metadata": {},
   "outputs": [
    {
     "data": {
      "text/plain": [
       "114.74826964176164"
      ]
     },
     "execution_count": 28,
     "metadata": {},
     "output_type": "execute_result"
    }
   ],
   "source": [
    "# BIC (Bayesian Info Criterion)\n",
    "bic = -2*(modelo_atrasos2.llf) + 3*np.log(100)\n",
    "bic"
   ]
  },
  {
   "cell_type": "code",
   "execution_count": 29,
   "metadata": {},
   "outputs": [
    {
     "data": {
      "text/plain": [
       "114.74826964176164"
      ]
     },
     "execution_count": 29,
     "metadata": {},
     "output_type": "execute_result"
    }
   ],
   "source": [
    "modelo_atrasos2.bic"
   ]
  }
 ],
 "metadata": {
  "kernelspec": {
   "display_name": "myenv",
   "language": "python",
   "name": "python3"
  },
  "language_info": {
   "codemirror_mode": {
    "name": "ipython",
    "version": 3
   },
   "file_extension": ".py",
   "mimetype": "text/x-python",
   "name": "python",
   "nbconvert_exporter": "python",
   "pygments_lexer": "ipython3",
   "version": "3.10.11"
  }
 },
 "nbformat": 4,
 "nbformat_minor": 2
}
