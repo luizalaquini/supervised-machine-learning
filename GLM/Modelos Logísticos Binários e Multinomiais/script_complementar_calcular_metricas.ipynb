{
 "cells": [
  {
   "cell_type": "markdown",
   "metadata": {},
   "source": [
    "**Por: Luiza Batista Laquini**"
   ]
  },
  {
   "cell_type": "code",
   "execution_count": 1,
   "metadata": {},
   "outputs": [],
   "source": [
    "def calcular_metricas(VP, FP, VN, FN):\n",
    "    # Recall (Sensibilidade ou True Positive Rate)\n",
    "    recall = VP / (VP + FN) if (VP + FN) != 0 else 0\n",
    "    \n",
    "    # Precisão (Precision)\n",
    "    precision = VP / (VP + FP) if (VP + FP) != 0 else 0\n",
    "    \n",
    "    # Acurácia (Accuracy)\n",
    "    accuracy = (VP + VN) / (VP + VN + FP + FN) if (VP + VN + FP + FN) != 0 else 0\n",
    "    \n",
    "    # Especificidade (Specificity ou True Negative Rate)\n",
    "    specificity = VN / (VN + FP) if (VN + FP) != 0 else 0\n",
    "    \n",
    "    # F1-Score\n",
    "    f1_score = 2 * (precision * recall) / (precision + recall) if (precision + recall) != 0 else 0\n",
    "    \n",
    "    # Retorna os resultados em um dicionário\n",
    "    return {\n",
    "        'Recall (Sensibilidade ou TPR)': recall,\n",
    "        'Precisão (Precision)': precision,\n",
    "        'Acurácia (Accuracy)': accuracy,\n",
    "        'Especificidade (Specificity ou TNR)': specificity,\n",
    "        'F1-Score': f1_score\n",
    "    }"
   ]
  },
  {
   "cell_type": "code",
   "execution_count": 3,
   "metadata": {},
   "outputs": [
    {
     "name": "stdout",
     "output_type": "stream",
     "text": [
      "Recall (Sensibilidade ou TPR): 0.9091\n",
      "Precisão (Precision): 0.8333\n",
      "Acurácia (Accuracy): 0.8636\n",
      "Especificidade (Specificity ou TNR): 0.8182\n",
      "F1-Score: 0.8696\n"
     ]
    }
   ],
   "source": [
    "# Exemplo de uso\n",
    "resultados = calcular_metricas(VP=50, VN=45, FP=10, FN=5)\n",
    "for metrica, valor in resultados.items():\n",
    "    print(f'{metrica}: {valor:.4f}')"
   ]
  }
 ],
 "metadata": {
  "kernelspec": {
   "display_name": ".venv",
   "language": "python",
   "name": "python3"
  },
  "language_info": {
   "codemirror_mode": {
    "name": "ipython",
    "version": 3
   },
   "file_extension": ".py",
   "mimetype": "text/x-python",
   "name": "python",
   "nbconvert_exporter": "python",
   "pygments_lexer": "ipython3",
   "version": "3.10.2"
  }
 },
 "nbformat": 4,
 "nbformat_minor": 2
}
