{
 "cells": [
  {
   "cell_type": "code",
   "execution_count": 2,
   "metadata": {},
   "outputs": [
    {
     "name": "stdout",
     "output_type": "stream",
     "text": [
      "21.885818\n",
      "26.501375000000003\n"
     ]
    }
   ],
   "source": [
    "# HLM2:\n",
    "\n",
    "# Cálculos manuais dos Fitted Values:\n",
    "\n",
    "# Parâmetros do modelo final:\n",
    "# modelo_final_hlm2.params\n",
    "\n",
    "# Fitted Fixed:\n",
    "print(-0.849603 + 0.713461*11 + 1.585256*3.6 + 0.231829*11*3.6)\n",
    "\n",
    "# Fitted Completo:\n",
    "print(-0.849603 + 0.713461*11 + 1.585256*3.6 + 0.231829*11*3.6 -0.211364 + 0.438811*11)"
   ]
  },
  {
   "cell_type": "code",
   "execution_count": 10,
   "metadata": {},
   "outputs": [],
   "source": [
    "################### FALTOU TESTAR #####################\n",
    "#######################################################\n",
    "#### MODELO OLS COM DUMMIES E INTERAÇÃO horas:texp ####\n",
    "#######################################################\n",
    "\n",
    "import pandas as pd\n",
    "import statsmodels.api as sm \n",
    "from statstests.process import stepwise"
   ]
  },
  {
   "cell_type": "code",
   "execution_count": 5,
   "metadata": {},
   "outputs": [
    {
     "data": {
      "text/html": [
       "<div>\n",
       "<style scoped>\n",
       "    .dataframe tbody tr th:only-of-type {\n",
       "        vertical-align: middle;\n",
       "    }\n",
       "\n",
       "    .dataframe tbody tr th {\n",
       "        vertical-align: top;\n",
       "    }\n",
       "\n",
       "    .dataframe thead th {\n",
       "        text-align: right;\n",
       "    }\n",
       "</style>\n",
       "<table border=\"1\" class=\"dataframe\">\n",
       "  <thead>\n",
       "    <tr style=\"text-align: right;\">\n",
       "      <th></th>\n",
       "      <th>estudante</th>\n",
       "      <th>desempenho</th>\n",
       "      <th>horas</th>\n",
       "      <th>texp</th>\n",
       "      <th>fitted.fixed</th>\n",
       "      <th>fitted.completo</th>\n",
       "      <th>eij</th>\n",
       "      <th>escola_2</th>\n",
       "      <th>escola_3</th>\n",
       "      <th>escola_4</th>\n",
       "      <th>escola_5</th>\n",
       "      <th>escola_6</th>\n",
       "      <th>escola_7</th>\n",
       "      <th>escola_8</th>\n",
       "      <th>escola_9</th>\n",
       "      <th>escola_10</th>\n",
       "    </tr>\n",
       "  </thead>\n",
       "  <tbody>\n",
       "    <tr>\n",
       "      <th>0</th>\n",
       "      <td>1</td>\n",
       "      <td>25.0</td>\n",
       "      <td>11</td>\n",
       "      <td>3.6</td>\n",
       "      <td>21.885819</td>\n",
       "      <td>26.501371</td>\n",
       "      <td>-1.501371</td>\n",
       "      <td>0</td>\n",
       "      <td>0</td>\n",
       "      <td>0</td>\n",
       "      <td>0</td>\n",
       "      <td>0</td>\n",
       "      <td>0</td>\n",
       "      <td>0</td>\n",
       "      <td>0</td>\n",
       "      <td>0</td>\n",
       "    </tr>\n",
       "    <tr>\n",
       "      <th>1</th>\n",
       "      <td>2</td>\n",
       "      <td>52.0</td>\n",
       "      <td>23</td>\n",
       "      <td>3.6</td>\n",
       "      <td>40.462363</td>\n",
       "      <td>50.343641</td>\n",
       "      <td>1.656359</td>\n",
       "      <td>0</td>\n",
       "      <td>0</td>\n",
       "      <td>0</td>\n",
       "      <td>0</td>\n",
       "      <td>0</td>\n",
       "      <td>0</td>\n",
       "      <td>0</td>\n",
       "      <td>0</td>\n",
       "      <td>0</td>\n",
       "    </tr>\n",
       "  </tbody>\n",
       "</table>\n",
       "</div>"
      ],
      "text/plain": [
       "   estudante  desempenho  horas  texp  fitted.fixed  fitted.completo  \\\n",
       "0          1        25.0     11   3.6     21.885819        26.501371   \n",
       "1          2        52.0     23   3.6     40.462363        50.343641   \n",
       "\n",
       "        eij  escola_2  escola_3  escola_4  escola_5  escola_6  escola_7  \\\n",
       "0 -1.501371         0         0         0         0         0         0   \n",
       "1  1.656359         0         0         0         0         0         0   \n",
       "\n",
       "   escola_8  escola_9  escola_10  \n",
       "0         0         0          0  \n",
       "1         0         0          0  "
      ]
     },
     "execution_count": 5,
     "metadata": {},
     "output_type": "execute_result"
    }
   ],
   "source": [
    "df_aluno_escola_dummies = pd.read_csv('data/df_aluno_escola_dummies.csv', index_col=0)"
   ]
  },
  {
   "cell_type": "code",
   "execution_count": 6,
   "metadata": {},
   "outputs": [],
   "source": [
    "lista_colunas = list(df_aluno_escola_dummies.drop(columns=['estudante','desempenho',\n",
    "                                                           'fitted.fixed',\n",
    "                                                           'fitted.completo',\n",
    "                                                           'eij']).columns)"
   ]
  },
  {
   "cell_type": "code",
   "execution_count": 7,
   "metadata": {},
   "outputs": [
    {
     "name": "stdout",
     "output_type": "stream",
     "text": [
      "Fórmula utilizada:  desempenho ~ horas + texp + escola_2 + escola_3 + escola_4 + escola_5 + escola_6 + escola_7 + escola_8 + escola_9 + escola_10 + horas:texp\n"
     ]
    }
   ],
   "source": [
    "formula_dummies_modelo2 = ' + '.join(lista_colunas) + \" + horas:texp\"\n",
    "formula_dummies_modelo2 = \"desempenho ~ \" + formula_dummies_modelo2\n",
    "print(\"Fórmula utilizada: \",formula_dummies_modelo2)"
   ]
  },
  {
   "cell_type": "code",
   "execution_count": 9,
   "metadata": {},
   "outputs": [
    {
     "name": "stdout",
     "output_type": "stream",
     "text": [
      "                            OLS Regression Results                            \n",
      "==============================================================================\n",
      "Dep. Variable:             desempenho   R-squared:                       0.973\n",
      "Model:                            OLS   Adj. R-squared:                  0.972\n",
      "Method:                 Least Squares   F-statistic:                     1134.\n",
      "Date:                Wed, 09 Oct 2024   Prob (F-statistic):          8.66e-264\n",
      "Time:                        19:43:52   Log-Likelihood:                -986.91\n",
      "No. Observations:                 358   AIC:                             1998.\n",
      "Df Residuals:                     346   BIC:                             2044.\n",
      "Df Model:                          11                                         \n",
      "Covariance Type:            nonrobust                                         \n",
      "==============================================================================\n",
      "                 coef    std err          t      P>|t|      [0.025      0.975]\n",
      "------------------------------------------------------------------------------\n",
      "Intercept      5.5565      1.261      4.405      0.000       3.075       8.038\n",
      "horas          0.8306      0.070     11.859      0.000       0.693       0.968\n",
      "texp           1.3486      0.172      7.851      0.000       1.011       1.686\n",
      "escola_2     -11.8836      1.012    -11.743      0.000     -13.874      -9.893\n",
      "escola_3      -8.2138      0.475    -17.301      0.000      -9.148      -7.280\n",
      "escola_4      -2.2088      0.999     -2.212      0.028      -4.173      -0.245\n",
      "escola_5     -12.1903      0.864    -14.102      0.000     -13.890     -10.490\n",
      "escola_6      -2.9843      0.912     -3.273      0.001      -4.778      -1.191\n",
      "escola_7       0.5424      0.775      0.700      0.485      -0.982       2.067\n",
      "escola_8      -1.9272      0.847     -2.275      0.023      -3.593      -0.261\n",
      "escola_9     -18.7334      0.962    -19.469      0.000     -20.626     -16.841\n",
      "escola_10    -10.3706      0.908    -11.424      0.000     -12.156      -8.585\n",
      "horas:texp     0.2232      0.011     19.563      0.000       0.201       0.246\n",
      "==============================================================================\n",
      "Omnibus:                       18.488   Durbin-Watson:                   2.091\n",
      "Prob(Omnibus):                  0.000   Jarque-Bera (JB):               36.104\n",
      "Skew:                          -0.278   Prob(JB):                     1.45e-08\n",
      "Kurtosis:                       4.453   Cond. No.                     3.96e+17\n",
      "==============================================================================\n",
      "\n",
      "Notes:\n",
      "[1] Standard Errors assume that the covariance matrix of the errors is correctly specified.\n",
      "[2] The smallest eigenvalue is 2.98e-29. This might indicate that there are\n",
      "strong multicollinearity problems or that the design matrix is singular.\n"
     ]
    }
   ],
   "source": [
    "# Estimação do modelo com n-1 dummies propriamente dito\n",
    "\n",
    "modelo_ols_dummies2 = sm.OLS.from_formula(formula_dummies_modelo2,\n",
    "                                               df_aluno_escola_dummies).fit()\n",
    "\n",
    "# Parâmetros do 'modelo_ols_dummies2'\n",
    "print(modelo_ols_dummies2.summary())"
   ]
  },
  {
   "cell_type": "code",
   "execution_count": 11,
   "metadata": {},
   "outputs": [
    {
     "name": "stdout",
     "output_type": "stream",
     "text": [
      "Regression type: OLS \n",
      "\n",
      "Estimating model...: \n",
      " desempenho ~ Q('horas') + Q('texp') + Q('escola_2') + Q('escola_3') + Q('escola_4') + Q('escola_5') + Q('escola_6') + Q('escola_7') + Q('escola_8') + Q('escola_9') + Q('escola_10') + Q('horas:texp')\n",
      "\n",
      " Discarding atribute \"Q('escola_7')\" with p-value equal to 0.4845600538338054 \n",
      "\n",
      "Estimating model...: \n",
      " desempenho ~ Q('horas') + Q('texp') + Q('escola_2') + Q('escola_3') + Q('escola_4') + Q('escola_5') + Q('escola_6') + Q('escola_8') + Q('escola_9') + Q('escola_10') + Q('horas:texp')\n",
      "\n",
      " No more atributes with p-value higher than 0.05\n",
      "\n",
      " Atributes discarded on the process...: \n",
      "\n",
      "{'atribute': \"Q('escola_7')\", 'p-value': 0.4845600538338054}\n",
      "\n",
      " Model after stepwise process...: \n",
      " desempenho ~ Q('horas') + Q('texp') + Q('escola_2') + Q('escola_3') + Q('escola_4') + Q('escola_5') + Q('escola_6') + Q('escola_8') + Q('escola_9') + Q('escola_10') + Q('horas:texp') \n",
      "\n",
      "                            OLS Regression Results                            \n",
      "==============================================================================\n",
      "Dep. Variable:             desempenho   R-squared:                       0.973\n",
      "Model:                            OLS   Adj. R-squared:                  0.972\n",
      "Method:                 Least Squares   F-statistic:                     1134.\n",
      "Date:                Wed, 09 Oct 2024   Prob (F-statistic):          8.66e-264\n",
      "Time:                        19:44:21   Log-Likelihood:                -986.91\n",
      "No. Observations:                 358   AIC:                             1998.\n",
      "Df Residuals:                     346   BIC:                             2044.\n",
      "Df Model:                          11                                         \n",
      "Covariance Type:            nonrobust                                         \n",
      "===================================================================================\n",
      "                      coef    std err          t      P>|t|      [0.025      0.975]\n",
      "-----------------------------------------------------------------------------------\n",
      "Intercept           5.1126      1.639      3.120      0.002       1.889       8.336\n",
      "Q('horas')          0.8306      0.070     11.859      0.000       0.693       0.968\n",
      "Q('texp')           1.4718      0.277      5.321      0.000       0.928       2.016\n",
      "Q('escola_2')     -11.6986      1.124    -10.412      0.000     -13.909      -9.489\n",
      "Q('escola_3')      -9.3727      1.788     -5.241      0.000     -12.890      -5.855\n",
      "Q('escola_4')      -2.4431      1.003     -2.436      0.015      -4.416      -0.471\n",
      "Q('escola_5')     -11.9807      1.012    -11.835      0.000     -13.972      -9.990\n",
      "Q('escola_6')      -2.9596      0.923     -3.206      0.001      -4.775      -1.144\n",
      "Q('escola_8')      -2.4080      1.020     -2.362      0.019      -4.413      -0.403\n",
      "Q('escola_9')     -18.5238      1.086    -17.056      0.000     -20.660     -16.388\n",
      "Q('escola_10')    -10.4076      0.896    -11.613      0.000     -12.170      -8.645\n",
      "Q('horas:texp')     0.2232      0.011     19.563      0.000       0.201       0.246\n",
      "==============================================================================\n",
      "Omnibus:                       18.488   Durbin-Watson:                   2.091\n",
      "Prob(Omnibus):                  0.000   Jarque-Bera (JB):               36.104\n",
      "Skew:                          -0.278   Prob(JB):                     1.45e-08\n",
      "Kurtosis:                       4.453   Cond. No.                     1.41e+03\n",
      "==============================================================================\n",
      "\n",
      "Notes:\n",
      "[1] Standard Errors assume that the covariance matrix of the errors is correctly specified.\n",
      "[2] The condition number is large, 1.41e+03. This might indicate that there are\n",
      "strong multicollinearity or other numerical problems.\n"
     ]
    }
   ],
   "source": [
    "# Procedimento Stepwise para o 'modelo_ols_dummies2'\n",
    "\n",
    "# Estimação do modelo por meio do procedimento Stepwise\n",
    "\n",
    "modelo_ols_dummies_step2 = stepwise(modelo_ols_dummies2, pvalue_limit=0.05)"
   ]
  },
  {
   "cell_type": "code",
   "execution_count": 13,
   "metadata": {},
   "outputs": [
    {
     "data": {
      "text/plain": [
       "-986.9081627932633"
      ]
     },
     "execution_count": 13,
     "metadata": {},
     "output_type": "execute_result"
    }
   ],
   "source": [
    "modelo_ols_dummies_step2.llf # log lik do modelo "
   ]
  }
 ],
 "metadata": {
  "kernelspec": {
   "display_name": "myenv",
   "language": "python",
   "name": "python3"
  },
  "language_info": {
   "codemirror_mode": {
    "name": "ipython",
    "version": 3
   },
   "file_extension": ".py",
   "mimetype": "text/x-python",
   "name": "python",
   "nbconvert_exporter": "python",
   "pygments_lexer": "ipython3",
   "version": "3.10.11"
  }
 },
 "nbformat": 4,
 "nbformat_minor": 2
}
