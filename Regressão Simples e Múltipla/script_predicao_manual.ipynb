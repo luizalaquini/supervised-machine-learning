{
 "cells": [
  {
   "cell_type": "code",
   "execution_count": null,
   "metadata": {},
   "outputs": [],
   "source": [
    "import numpy as np"
   ]
  },
  {
   "cell_type": "code",
   "execution_count": 7,
   "metadata": {},
   "outputs": [
    {
     "data": {
      "text/plain": [
       "42884.36"
      ]
     },
     "execution_count": 7,
     "metadata": {},
     "output_type": "execute_result"
    }
   ],
   "source": [
    "# Predição\n",
    "alpha = 4995.16 \n",
    "beta = 947.23\n",
    "x = 40\n",
    "\n",
    "transformed_value = alpha + beta * x\n",
    "transformed_value"
   ]
  },
  {
   "cell_type": "code",
   "execution_count": 8,
   "metadata": {},
   "outputs": [
    {
     "name": "stdout",
     "output_type": "stream",
     "text": [
      "O valor original é aproximadamente: 79.77\n"
     ]
    }
   ],
   "source": [
    "# No caso de haver transformada de box-cox é necessário percorrer o caminho inverso:\n",
    "\n",
    "def inverse_boxcox(transformed_value, lambda_):\n",
    "    if lambda_ == 0:\n",
    "        # Se lambda é 0, usamos a exponencial\n",
    "        return np.exp(transformed_value)\n",
    "    else:\n",
    "        # Se lambda não é 0, usamos a fórmula de transformação inversa\n",
    "        return np.power((lambda_ * transformed_value + 1), 1 / lambda_)\n",
    "\n",
    "lambda_ = 2.659\n",
    "\n",
    "# Calcular o valor original a partir da transformação inversa de Box-Cox\n",
    "original_value = inverse_boxcox(transformed_value, lambda_)\n",
    "print(f\"O valor original é aproximadamente: {original_value:.2f}\")\n"
   ]
  }
 ],
 "metadata": {
  "kernelspec": {
   "display_name": "myenv",
   "language": "python",
   "name": "python3"
  },
  "language_info": {
   "codemirror_mode": {
    "name": "ipython",
    "version": 3
   },
   "file_extension": ".py",
   "mimetype": "text/x-python",
   "name": "python",
   "nbconvert_exporter": "python",
   "pygments_lexer": "ipython3",
   "version": "3.10.11"
  }
 },
 "nbformat": 4,
 "nbformat_minor": 2
}
