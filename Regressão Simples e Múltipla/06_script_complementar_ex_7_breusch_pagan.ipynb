{
 "cells": [
  {
   "cell_type": "code",
   "execution_count": 75,
   "metadata": {},
   "outputs": [],
   "source": [
    "import pandas as pd\n",
    "import numpy as np\n",
    "import statsmodels.api as sm\n",
    "from statsmodels.stats.anova import anova_lm\n",
    "from scipy import stats"
   ]
  },
  {
   "cell_type": "code",
   "execution_count": 76,
   "metadata": {},
   "outputs": [
    {
     "name": "stdout",
     "output_type": "stream",
     "text": [
      "                            OLS Regression Results                            \n",
      "==============================================================================\n",
      "Dep. Variable:                   saeb   R-squared:                       0.077\n",
      "Model:                            OLS   Adj. R-squared:                  0.077\n",
      "Method:                 Least Squares   F-statistic:                     2126.\n",
      "Date:                Fri, 30 Aug 2024   Prob (F-statistic):               0.00\n",
      "Time:                        22:46:39   Log-Likelihood:                -27984.\n",
      "No. Observations:               25530   AIC:                         5.597e+04\n",
      "Df Residuals:                   25528   BIC:                         5.599e+04\n",
      "Df Model:                           1                                         \n",
      "Covariance Type:            nonrobust                                         \n",
      "==============================================================================\n",
      "                 coef    std err          t      P>|t|      [0.025      0.975]\n",
      "------------------------------------------------------------------------------\n",
      "Intercept      3.2425      0.039     82.277      0.000       3.165       3.320\n",
      "rendimento     2.0665      0.045     46.111      0.000       1.979       2.154\n",
      "==============================================================================\n",
      "Omnibus:                      152.496   Durbin-Watson:                   1.040\n",
      "Prob(Omnibus):                  0.000   Jarque-Bera (JB):              201.269\n",
      "Skew:                          -0.091   Prob(JB):                     1.97e-44\n",
      "Kurtosis:                       3.395   Cond. No.                         17.5\n",
      "==============================================================================\n",
      "\n",
      "Notes:\n",
      "[1] Standard Errors assume that the covariance matrix of the errors is correctly specified.\n"
     ]
    }
   ],
   "source": [
    "df_saeb_rend = pd.read_csv('data/saeb_rend.csv', delimiter=',')\n",
    "\n",
    "df_saeb_rend['codigo'] = df_saeb_rend['codigo'].astype('str')\n",
    "\n",
    "# Estimando o modelo\n",
    "modelo_saeb = sm.OLS.from_formula('saeb ~ rendimento', df_saeb_rend).fit()\n",
    "\n",
    "# Parâmetros do 'modelo_saeb'\n",
    "print(modelo_saeb.summary())"
   ]
  },
  {
   "cell_type": "code",
   "execution_count": 77,
   "metadata": {},
   "outputs": [],
   "source": [
    "df_saeb_rend['fitted'] = modelo_saeb.fittedvalues\n",
    "df_saeb_rend['residuos'] = modelo_saeb.resid"
   ]
  },
  {
   "cell_type": "code",
   "execution_count": 78,
   "metadata": {},
   "outputs": [
    {
     "name": "stdout",
     "output_type": "stream",
     "text": [
      "                            OLS Regression Results                            \n",
      "==============================================================================\n",
      "Dep. Variable:                     up   R-squared:                       0.001\n",
      "Model:                            OLS   Adj. R-squared:                  0.001\n",
      "Method:                 Least Squares   F-statistic:                     13.97\n",
      "Date:                Fri, 30 Aug 2024   Prob (F-statistic):           0.000186\n",
      "Time:                        22:46:39   Log-Likelihood:                -47370.\n",
      "No. Observations:               25530   AIC:                         9.474e+04\n",
      "Df Residuals:                   25528   BIC:                         9.476e+04\n",
      "Df Model:                           1                                         \n",
      "Covariance Type:            nonrobust                                         \n",
      "==============================================================================\n",
      "                 coef    std err          t      P>|t|      [0.025      0.975]\n",
      "------------------------------------------------------------------------------\n",
      "Intercept      0.1258      0.234      0.537      0.591      -0.333       0.585\n",
      "fitted         0.1732      0.046      3.737      0.000       0.082       0.264\n",
      "==============================================================================\n",
      "Omnibus:                    19495.847   Durbin-Watson:                   1.480\n",
      "Prob(Omnibus):                  0.000   Jarque-Bera (JB):           458715.921\n",
      "Skew:                           3.521   Prob(JB):                         0.00\n",
      "Kurtosis:                      22.535   Cond. No.                         127.\n",
      "==============================================================================\n",
      "\n",
      "Notes:\n",
      "[1] Standard Errors assume that the covariance matrix of the errors is correctly specified.\n"
     ]
    }
   ],
   "source": [
    "# Teste de Breusch-Pagan (Cálculo Manual) - REZA!\n",
    "\n",
    "df_saeb_rend['up'] = ((df_saeb_rend['residuos'])**2)/\\\n",
    "    (((df_saeb_rend['residuos'])**2).sum()/25530)\n",
    "    \n",
    "modelo_aux = sm.OLS.from_formula('up ~ fitted',\n",
    "                                 df_saeb_rend).fit()\n",
    "\n",
    "print(modelo_aux.summary())"
   ]
  },
  {
   "cell_type": "code",
   "execution_count": 79,
   "metadata": {},
   "outputs": [
    {
     "data": {
      "text/html": [
       "<div>\n",
       "<style scoped>\n",
       "    .dataframe tbody tr th:only-of-type {\n",
       "        vertical-align: middle;\n",
       "    }\n",
       "\n",
       "    .dataframe tbody tr th {\n",
       "        vertical-align: top;\n",
       "    }\n",
       "\n",
       "    .dataframe thead th {\n",
       "        text-align: right;\n",
       "    }\n",
       "</style>\n",
       "<table border=\"1\" class=\"dataframe\">\n",
       "  <thead>\n",
       "    <tr style=\"text-align: right;\">\n",
       "      <th></th>\n",
       "      <th>sum_sq</th>\n",
       "      <th>df</th>\n",
       "      <th>F</th>\n",
       "      <th>PR(&gt;F)</th>\n",
       "    </tr>\n",
       "  </thead>\n",
       "  <tbody>\n",
       "    <tr>\n",
       "      <th>fitted</th>\n",
       "      <td>33.441401</td>\n",
       "      <td>1.0</td>\n",
       "      <td>13.966877</td>\n",
       "      <td>0.000186</td>\n",
       "    </tr>\n",
       "    <tr>\n",
       "      <th>Residual</th>\n",
       "      <td>61122.616057</td>\n",
       "      <td>25528.0</td>\n",
       "      <td>NaN</td>\n",
       "      <td>NaN</td>\n",
       "    </tr>\n",
       "  </tbody>\n",
       "</table>\n",
       "</div>"
      ],
      "text/plain": [
       "                sum_sq       df          F    PR(>F)\n",
       "fitted       33.441401      1.0  13.966877  0.000186\n",
       "Residual  61122.616057  25528.0        NaN       NaN"
      ]
     },
     "execution_count": 79,
     "metadata": {},
     "output_type": "execute_result"
    }
   ],
   "source": [
    "anova_table = anova_lm(modelo_aux, typ=2)\n",
    "anova_table"
   ]
  },
  {
   "cell_type": "code",
   "execution_count": 80,
   "metadata": {},
   "outputs": [
    {
     "data": {
      "text/plain": [
       "16.720700325953544"
      ]
     },
     "execution_count": 80,
     "metadata": {},
     "output_type": "execute_result"
    }
   ],
   "source": [
    "SQReg = anova_table.sum_sq.iloc[0]/2\n",
    "SQReg"
   ]
  },
  {
   "cell_type": "code",
   "execution_count": 81,
   "metadata": {},
   "outputs": [
    {
     "data": {
      "text/plain": [
       "4.5651903149382985e-05"
      ]
     },
     "execution_count": 81,
     "metadata": {},
     "output_type": "execute_result"
    }
   ],
   "source": [
    "p_value = stats.chi2.pdf(SQReg, 1)*2\n",
    "p_value"
   ]
  },
  {
   "cell_type": "markdown",
   "metadata": {},
   "source": [
    "p-value < 0.05 portanto 'Rejeita-se H0 - Existência de Heterocedasticidade'"
   ]
  },
  {
   "cell_type": "code",
   "execution_count": 82,
   "metadata": {},
   "outputs": [],
   "source": [
    "# Podemos evitar esse cálculo manual com a função:\n",
    "\n",
    "# Criação da função 'breusch_pagan_test'\n",
    "def breusch_pagan_test(modelo):\n",
    "\n",
    "    df = pd.DataFrame({'yhat':modelo.fittedvalues,\n",
    "                       'resid':modelo.resid})\n",
    "  \n",
    "    df['up'] = (np.square(df.resid))/np.sum(((np.square(df.resid))/df.shape[0]))\n",
    "  \n",
    "    modelo_aux = sm.OLS.from_formula('up ~ yhat', df).fit()\n",
    "  \n",
    "    anova_table = sm.stats.anova_lm(modelo_aux, typ=2)\n",
    "  \n",
    "    anova_table['sum_sq'] = anova_table['sum_sq']/2\n",
    "    \n",
    "    chisq = anova_table['sum_sq'].iloc[0]\n",
    "\n",
    "    p_value = stats.chi2.pdf(chisq, 1)*2\n",
    "    \n",
    "    print(f\"chisq: {chisq}\")\n",
    "    \n",
    "    print(f\"p-value: {p_value}\")\n",
    "    \n",
    "    return chisq, p_value"
   ]
  },
  {
   "cell_type": "code",
   "execution_count": 83,
   "metadata": {},
   "outputs": [
    {
     "name": "stdout",
     "output_type": "stream",
     "text": [
      "chisq: 16.720700325953544\n",
      "p-value: 4.5651903149382985e-05\n",
      "Rejeita-se H0 - Existência de Heterocedasticidade\n"
     ]
    }
   ],
   "source": [
    "# Teste de Breusch-Pagan com o modelo com dummies\n",
    "\n",
    "teste_bp = breusch_pagan_test(modelo_saeb) #criação do objeto 'teste_bp'\n",
    "chisq, p = teste_bp #definição dos elementos contidos no objeto 'teste_bp'\n",
    "alpha = 0.05 #nível de significância\n",
    "if p > alpha:\n",
    "    print('Não se rejeita H0 - Ausência de Heterocedasticidade')\n",
    "else:\n",
    "\tprint('Rejeita-se H0 - Existência de Heterocedasticidade')"
   ]
  },
  {
   "cell_type": "markdown",
   "metadata": {},
   "source": [
    "Agora rodando a função para o modelo com dummies:"
   ]
  },
  {
   "cell_type": "code",
   "execution_count": 84,
   "metadata": {},
   "outputs": [
    {
     "data": {
      "text/html": [
       "<div>\n",
       "<style scoped>\n",
       "    .dataframe tbody tr th:only-of-type {\n",
       "        vertical-align: middle;\n",
       "    }\n",
       "\n",
       "    .dataframe tbody tr th {\n",
       "        vertical-align: top;\n",
       "    }\n",
       "\n",
       "    .dataframe thead th {\n",
       "        text-align: right;\n",
       "    }\n",
       "</style>\n",
       "<table border=\"1\" class=\"dataframe\">\n",
       "  <thead>\n",
       "    <tr style=\"text-align: right;\">\n",
       "      <th></th>\n",
       "      <th>municipio</th>\n",
       "      <th>codigo</th>\n",
       "      <th>escola</th>\n",
       "      <th>rede</th>\n",
       "      <th>saeb</th>\n",
       "      <th>rendimento</th>\n",
       "      <th>fitted</th>\n",
       "      <th>residuos</th>\n",
       "      <th>up</th>\n",
       "      <th>uf_AL</th>\n",
       "      <th>...</th>\n",
       "      <th>uf_PR</th>\n",
       "      <th>uf_RJ</th>\n",
       "      <th>uf_RN</th>\n",
       "      <th>uf_RO</th>\n",
       "      <th>uf_RR</th>\n",
       "      <th>uf_RS</th>\n",
       "      <th>uf_SC</th>\n",
       "      <th>uf_SE</th>\n",
       "      <th>uf_SP</th>\n",
       "      <th>uf_TO</th>\n",
       "    </tr>\n",
       "  </thead>\n",
       "  <tbody>\n",
       "    <tr>\n",
       "      <th>0</th>\n",
       "      <td>Alta Floresta D'Oeste</td>\n",
       "      <td>11024666</td>\n",
       "      <td>EMEIEF BOA ESPERANCA</td>\n",
       "      <td>Municipal</td>\n",
       "      <td>5.331833</td>\n",
       "      <td>0.766092</td>\n",
       "      <td>4.825556</td>\n",
       "      <td>0.506278</td>\n",
       "      <td>0.488848</td>\n",
       "      <td>0</td>\n",
       "      <td>...</td>\n",
       "      <td>0</td>\n",
       "      <td>0</td>\n",
       "      <td>0</td>\n",
       "      <td>1</td>\n",
       "      <td>0</td>\n",
       "      <td>0</td>\n",
       "      <td>0</td>\n",
       "      <td>0</td>\n",
       "      <td>0</td>\n",
       "      <td>0</td>\n",
       "    </tr>\n",
       "    <tr>\n",
       "      <th>1</th>\n",
       "      <td>Alta Floresta D'Oeste</td>\n",
       "      <td>11024682</td>\n",
       "      <td>EEEF EURIDICE LOPES PEDROSO</td>\n",
       "      <td>Estadual</td>\n",
       "      <td>NaN</td>\n",
       "      <td>0.910890</td>\n",
       "      <td>NaN</td>\n",
       "      <td>NaN</td>\n",
       "      <td>NaN</td>\n",
       "      <td>0</td>\n",
       "      <td>...</td>\n",
       "      <td>0</td>\n",
       "      <td>0</td>\n",
       "      <td>0</td>\n",
       "      <td>1</td>\n",
       "      <td>0</td>\n",
       "      <td>0</td>\n",
       "      <td>0</td>\n",
       "      <td>0</td>\n",
       "      <td>0</td>\n",
       "      <td>0</td>\n",
       "    </tr>\n",
       "    <tr>\n",
       "      <th>2</th>\n",
       "      <td>Alta Floresta D'Oeste</td>\n",
       "      <td>11024828</td>\n",
       "      <td>EMEIEF IZIDORO STEDILE</td>\n",
       "      <td>Municipal</td>\n",
       "      <td>5.432333</td>\n",
       "      <td>0.884658</td>\n",
       "      <td>5.070567</td>\n",
       "      <td>0.361767</td>\n",
       "      <td>0.249605</td>\n",
       "      <td>0</td>\n",
       "      <td>...</td>\n",
       "      <td>0</td>\n",
       "      <td>0</td>\n",
       "      <td>0</td>\n",
       "      <td>1</td>\n",
       "      <td>0</td>\n",
       "      <td>0</td>\n",
       "      <td>0</td>\n",
       "      <td>0</td>\n",
       "      <td>0</td>\n",
       "      <td>0</td>\n",
       "    </tr>\n",
       "  </tbody>\n",
       "</table>\n",
       "<p>3 rows × 35 columns</p>\n",
       "</div>"
      ],
      "text/plain": [
       "               municipio    codigo                       escola       rede  \\\n",
       "0  Alta Floresta D'Oeste  11024666         EMEIEF BOA ESPERANCA  Municipal   \n",
       "1  Alta Floresta D'Oeste  11024682  EEEF EURIDICE LOPES PEDROSO   Estadual   \n",
       "2  Alta Floresta D'Oeste  11024828       EMEIEF IZIDORO STEDILE  Municipal   \n",
       "\n",
       "       saeb  rendimento    fitted  residuos        up  uf_AL  ...  uf_PR  \\\n",
       "0  5.331833    0.766092  4.825556  0.506278  0.488848      0  ...      0   \n",
       "1       NaN    0.910890       NaN       NaN       NaN      0  ...      0   \n",
       "2  5.432333    0.884658  5.070567  0.361767  0.249605      0  ...      0   \n",
       "\n",
       "   uf_RJ  uf_RN  uf_RO  uf_RR  uf_RS  uf_SC  uf_SE  uf_SP  uf_TO  \n",
       "0      0      0      1      0      0      0      0      0      0  \n",
       "1      0      0      1      0      0      0      0      0      0  \n",
       "2      0      0      1      0      0      0      0      0      0  \n",
       "\n",
       "[3 rows x 35 columns]"
      ]
     },
     "execution_count": 84,
     "metadata": {},
     "output_type": "execute_result"
    }
   ],
   "source": [
    "# Dummização da variável 'uf' com n-1 dummies\n",
    "\n",
    "df_saeb_rend_dummies = pd.get_dummies(df_saeb_rend, columns=['uf'],\n",
    "                                      dtype=int,\n",
    "                                      drop_first=True)\n",
    "\n",
    "df_saeb_rend_dummies.head(3) # n-1"
   ]
  },
  {
   "cell_type": "code",
   "execution_count": 85,
   "metadata": {},
   "outputs": [
    {
     "name": "stdout",
     "output_type": "stream",
     "text": [
      "                            OLS Regression Results                            \n",
      "==============================================================================\n",
      "Dep. Variable:                   saeb   R-squared:                       0.345\n",
      "Model:                            OLS   Adj. R-squared:                  0.344\n",
      "Method:                 Least Squares   F-statistic:                     497.5\n",
      "Date:                Fri, 30 Aug 2024   Prob (F-statistic):               0.00\n",
      "Time:                        22:46:40   Log-Likelihood:                -23604.\n",
      "No. Observations:               25530   AIC:                         4.726e+04\n",
      "Df Residuals:                   25502   BIC:                         4.749e+04\n",
      "Df Model:                          27                                         \n",
      "Covariance Type:            nonrobust                                         \n",
      "==============================================================================\n",
      "                 coef    std err          t      P>|t|      [0.025      0.975]\n",
      "------------------------------------------------------------------------------\n",
      "Intercept      3.7566      0.071     53.118      0.000       3.618       3.895\n",
      "rendimento     1.2444      0.044     28.057      0.000       1.157       1.331\n",
      "uf_AL         -0.1680      0.065     -2.589      0.010      -0.295      -0.041\n",
      "uf_AM         -0.2480      0.063     -3.949      0.000      -0.371      -0.125\n",
      "uf_AP         -0.5356      0.091     -5.900      0.000      -0.714      -0.358\n",
      "uf_BA         -0.2451      0.060     -4.106      0.000      -0.362      -0.128\n",
      "uf_CE          0.3591      0.059      6.072      0.000       0.243       0.475\n",
      "uf_DF          0.4426      0.082      5.422      0.000       0.283       0.603\n",
      "uf_ES          0.5843      0.064      9.197      0.000       0.460       0.709\n",
      "uf_GO          0.4936      0.061      8.103      0.000       0.374       0.613\n",
      "uf_MA         -0.6703      0.060    -11.194      0.000      -0.788      -0.553\n",
      "uf_MG          0.3983      0.059      6.774      0.000       0.283       0.514\n",
      "uf_MS          0.5386      0.067      8.087      0.000       0.408       0.669\n",
      "uf_MT         -0.0836      0.064     -1.305      0.192      -0.209       0.042\n",
      "uf_PA         -0.4627      0.060     -7.654      0.000      -0.581      -0.344\n",
      "uf_PB         -0.0913      0.063     -1.438      0.151      -0.216       0.033\n",
      "uf_PE         -0.0279      0.060     -0.461      0.645      -0.146       0.091\n",
      "uf_PI         -0.1084      0.062     -1.759      0.079      -0.229       0.012\n",
      "uf_PR          0.6130      0.061     10.112      0.000       0.494       0.732\n",
      "uf_RJ          0.3945      0.060      6.531      0.000       0.276       0.513\n",
      "uf_RN         -0.0996      0.067     -1.483      0.138      -0.231       0.032\n",
      "uf_RO          0.3881      0.068      5.738      0.000       0.256       0.521\n",
      "uf_RR         -0.2887      0.105     -2.742      0.006      -0.495      -0.082\n",
      "uf_RS          0.7146      0.060     11.993      0.000       0.598       0.831\n",
      "uf_SC          0.6930      0.060     11.483      0.000       0.575       0.811\n",
      "uf_SE         -0.0072      0.067     -0.108      0.914      -0.138       0.124\n",
      "uf_SP          0.4371      0.059      7.448      0.000       0.322       0.552\n",
      "uf_TO          0.1189      0.067      1.782      0.075      -0.012       0.250\n",
      "==============================================================================\n",
      "Omnibus:                      575.254   Durbin-Watson:                   1.434\n",
      "Prob(Omnibus):                  0.000   Jarque-Bera (JB):             1122.751\n",
      "Skew:                           0.147   Prob(JB):                    1.58e-244\n",
      "Kurtosis:                       3.984   Cond. No.                         107.\n",
      "==============================================================================\n",
      "\n",
      "Notes:\n",
      "[1] Standard Errors assume that the covariance matrix of the errors is correctly specified.\n"
     ]
    }
   ],
   "source": [
    "# Definição da fórmula utilizada no modelo\n",
    "lista_colunas = list(df_saeb_rend_dummies.drop(columns=['municipio',\n",
    "                                                        'codigo',\n",
    "                                                        'escola',\n",
    "                                                        'rede',\n",
    "                                                        'saeb',\n",
    "                                                        'fitted',\n",
    "                                                        'residuos',\n",
    "                                                        'up']).columns)\n",
    "formula_dummies_modelo = ' + '.join(lista_colunas)\n",
    "formula_dummies_modelo = \"saeb ~ \" + formula_dummies_modelo\n",
    "\n",
    "# Estimação\n",
    "modelo_saeb_dummies_uf = sm.OLS.from_formula(formula_dummies_modelo,\n",
    "                                               df_saeb_rend_dummies).fit()\n",
    "\n",
    "# Parâmetros do modelo 'modelo_saeb_dummies_uf'\n",
    "print(modelo_saeb_dummies_uf.summary())"
   ]
  },
  {
   "cell_type": "code",
   "execution_count": 86,
   "metadata": {},
   "outputs": [
    {
     "name": "stdout",
     "output_type": "stream",
     "text": [
      "chisq: 1.0756241898384158\n",
      "p-value: 0.44930469428880987\n",
      "Não se rejeita H0 - Ausência de Heterocedasticidade\n"
     ]
    }
   ],
   "source": [
    "# Teste de Breusch-Pagan com o modelo com dummies\n",
    "\n",
    "teste_bp = breusch_pagan_test(modelo_saeb_dummies_uf) #criação do objeto 'teste_bp'\n",
    "chisq, p = teste_bp #definição dos elementos contidos no objeto 'teste_bp'\n",
    "alpha = 0.05 #nível de significância\n",
    "if p > alpha:\n",
    "    print('Não se rejeita H0 - Ausência de Heterocedasticidade')\n",
    "else:\n",
    "\tprint('Rejeita-se H0 - Existência de Heterocedasticidade')"
   ]
  },
  {
   "cell_type": "code",
   "execution_count": 87,
   "metadata": {},
   "outputs": [
    {
     "name": "stdout",
     "output_type": "stream",
     "text": [
      "                            OLS Regression Results                            \n",
      "==============================================================================\n",
      "Dep. Variable:                   saeb   R-squared:                       0.345\n",
      "Model:                            OLS   Adj. R-squared:                  0.344\n",
      "Method:                 Least Squares   F-statistic:                     497.5\n",
      "Date:                Fri, 30 Aug 2024   Prob (F-statistic):               0.00\n",
      "Time:                        22:46:40   Log-Likelihood:                -23604.\n",
      "No. Observations:               25530   AIC:                         4.726e+04\n",
      "Df Residuals:                   25502   BIC:                         4.749e+04\n",
      "Df Model:                          27                                         \n",
      "Covariance Type:            nonrobust                                         \n",
      "==============================================================================\n",
      "                 coef    std err          t      P>|t|      [0.025      0.975]\n",
      "------------------------------------------------------------------------------\n",
      "Intercept      3.5114      0.038     93.345      0.000       3.438       3.585\n",
      "rendimento     1.2444      0.044     28.057      0.000       1.157       1.331\n",
      "uf_AC          0.2451      0.060      4.106      0.000       0.128       0.362\n",
      "uf_AL          0.0772      0.033      2.339      0.019       0.012       0.142\n",
      "uf_AM         -0.0028      0.029     -0.098      0.922      -0.060       0.054\n",
      "uf_AP         -0.2905      0.071     -4.066      0.000      -0.431      -0.150\n",
      "uf_CE          0.6043      0.020     29.770      0.000       0.564       0.644\n",
      "uf_DF          0.6877      0.059     11.569      0.000       0.571       0.804\n",
      "uf_ES          0.8294      0.030     27.498      0.000       0.770       0.889\n",
      "uf_GO          0.7387      0.025     29.315      0.000       0.689       0.788\n",
      "uf_MA         -0.4251      0.022    -19.694      0.000      -0.467      -0.383\n",
      "uf_MG          0.6435      0.019     34.747      0.000       0.607       0.680\n",
      "uf_MS          0.7837      0.036     21.541      0.000       0.712       0.855\n",
      "uf_MT          0.1616      0.032      5.025      0.000       0.099       0.225\n",
      "uf_PA         -0.2176      0.023     -9.596      0.000      -0.262      -0.173\n",
      "uf_PB          0.1539      0.030      5.196      0.000       0.096       0.212\n",
      "uf_PE          0.2172      0.023      9.332      0.000       0.172       0.263\n",
      "uf_PI          0.1367      0.026      5.268      0.000       0.086       0.188\n",
      "uf_PR          0.8582      0.024     35.892      0.000       0.811       0.905\n",
      "uf_RJ          0.6396      0.023     28.395      0.000       0.595       0.684\n",
      "uf_RN          0.1456      0.037      3.975      0.000       0.074       0.217\n",
      "uf_RO          0.6333      0.038     16.449      0.000       0.558       0.709\n",
      "uf_RR         -0.0436      0.089     -0.488      0.626      -0.219       0.132\n",
      "uf_RS          0.9598      0.020     47.080      0.000       0.920       1.000\n",
      "uf_SC          0.9381      0.023     40.142      0.000       0.892       0.984\n",
      "uf_SE          0.2379      0.036      6.654      0.000       0.168       0.308\n",
      "uf_SP          0.6823      0.019     35.401      0.000       0.644       0.720\n",
      "uf_TO          0.3640      0.037      9.945      0.000       0.292       0.436\n",
      "==============================================================================\n",
      "Omnibus:                      575.254   Durbin-Watson:                   1.434\n",
      "Prob(Omnibus):                  0.000   Jarque-Bera (JB):             1122.751\n",
      "Skew:                           0.147   Prob(JB):                    1.58e-244\n",
      "Kurtosis:                       3.984   Cond. No.                         32.9\n",
      "==============================================================================\n",
      "\n",
      "Notes:\n",
      "[1] Standard Errors assume that the covariance matrix of the errors is correctly specified.\n"
     ]
    }
   ],
   "source": [
    "# Dummização da variável 'uf' com n-1 dummies sendo uf_BA como referencia\n",
    "\n",
    "df_saeb_rend_dummies = pd.get_dummies(df_saeb_rend, columns=['uf'],\n",
    "                                      dtype=int,\n",
    "                                      drop_first=False)\n",
    "\n",
    "#df_saeb_rend_dummies\n",
    "\n",
    "lista_colunas = list(df_saeb_rend_dummies.drop(columns=['municipio',\n",
    "                                                        'codigo',\n",
    "                                                        'escola',\n",
    "                                                        'rede',\n",
    "                                                        'saeb',\n",
    "                                                        'fitted',\n",
    "                                                        'residuos','up',\n",
    "                                                        'uf_BA']).columns)\n",
    "formula_dummies_modelo = ' + '.join(lista_colunas)\n",
    "formula_dummies_modelo = \"saeb ~ \" + formula_dummies_modelo\n",
    "\n",
    "# Estimação do novo modelo 'modelo_saeb_dummies_uf2'\n",
    "\n",
    "modelo_saeb_dummies_uf2 = sm.OLS.from_formula(formula_dummies_modelo,\n",
    "                                               df_saeb_rend_dummies).fit()\n",
    "\n",
    "# Parâmetros do modelo 'modelo_saeb_dummies_uf2'\n",
    "print(modelo_saeb_dummies_uf2.summary())"
   ]
  },
  {
   "cell_type": "code",
   "execution_count": 88,
   "metadata": {},
   "outputs": [
    {
     "name": "stdout",
     "output_type": "stream",
     "text": [
      "chisq: 1.0756241898380683\n",
      "p-value: 0.4493046942889605\n",
      "Não se rejeita H0 - Ausência de Heterocedasticidade\n"
     ]
    }
   ],
   "source": [
    "# Teste de Breusch-Pagan no novo modelo\n",
    "\n",
    "teste_bp = breusch_pagan_test(modelo_saeb_dummies_uf2) #criação do objeto 'teste_bp'\n",
    "chisq, p = teste_bp #definição dos elementos contidos no objeto 'teste_bp'\n",
    "alpha = 0.05 #nível de significância\n",
    "if p > alpha:\n",
    "    print('Não se rejeita H0 - Ausência de Heterocedasticidade')\n",
    "else:\n",
    "\tprint('Rejeita-se H0 - Existência de Heterocedasticidade')"
   ]
  },
  {
   "cell_type": "markdown",
   "metadata": {},
   "source": [
    "Provamos que não há diferença em mudar a variável de referência da dummiezação"
   ]
  }
 ],
 "metadata": {
  "kernelspec": {
   "display_name": "myenv",
   "language": "python",
   "name": "python3"
  },
  "language_info": {
   "codemirror_mode": {
    "name": "ipython",
    "version": 3
   },
   "file_extension": ".py",
   "mimetype": "text/x-python",
   "name": "python",
   "nbconvert_exporter": "python",
   "pygments_lexer": "ipython3",
   "version": "3.10.11"
  }
 },
 "nbformat": 4,
 "nbformat_minor": 2
}
