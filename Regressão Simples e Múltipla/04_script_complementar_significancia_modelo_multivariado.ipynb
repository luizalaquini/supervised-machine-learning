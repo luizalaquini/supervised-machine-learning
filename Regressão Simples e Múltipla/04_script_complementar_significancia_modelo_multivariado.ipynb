{
 "cells": [
  {
   "cell_type": "code",
   "execution_count": 1,
   "metadata": {},
   "outputs": [],
   "source": [
    "import pandas as pd\n",
    "import statsmodels.api as sm # estimação de modelos"
   ]
  },
  {
   "cell_type": "code",
   "execution_count": 2,
   "metadata": {},
   "outputs": [
    {
     "data": {
      "text/html": [
       "<div>\n",
       "<style scoped>\n",
       "    .dataframe tbody tr th:only-of-type {\n",
       "        vertical-align: middle;\n",
       "    }\n",
       "\n",
       "    .dataframe tbody tr th {\n",
       "        vertical-align: top;\n",
       "    }\n",
       "\n",
       "    .dataframe thead th {\n",
       "        text-align: right;\n",
       "    }\n",
       "</style>\n",
       "<table border=\"1\" class=\"dataframe\">\n",
       "  <thead>\n",
       "    <tr style=\"text-align: right;\">\n",
       "      <th></th>\n",
       "      <th>empresa</th>\n",
       "      <th>retorno</th>\n",
       "      <th>disclosure</th>\n",
       "      <th>endividamento</th>\n",
       "      <th>ativos</th>\n",
       "      <th>liquidez</th>\n",
       "    </tr>\n",
       "  </thead>\n",
       "  <tbody>\n",
       "    <tr>\n",
       "      <th>0</th>\n",
       "      <td>Adidas</td>\n",
       "      <td>63.67</td>\n",
       "      <td>83</td>\n",
       "      <td>1.3</td>\n",
       "      <td>3967</td>\n",
       "      <td>14.3</td>\n",
       "    </tr>\n",
       "    <tr>\n",
       "      <th>1</th>\n",
       "      <td>BASF</td>\n",
       "      <td>55.49</td>\n",
       "      <td>91</td>\n",
       "      <td>33.9</td>\n",
       "      <td>5450</td>\n",
       "      <td>16.8</td>\n",
       "    </tr>\n",
       "    <tr>\n",
       "      <th>2</th>\n",
       "      <td>Bayer</td>\n",
       "      <td>52.42</td>\n",
       "      <td>77</td>\n",
       "      <td>36.1</td>\n",
       "      <td>4327</td>\n",
       "      <td>15.5</td>\n",
       "    </tr>\n",
       "    <tr>\n",
       "      <th>3</th>\n",
       "      <td>BSH</td>\n",
       "      <td>54.00</td>\n",
       "      <td>90</td>\n",
       "      <td>20.8</td>\n",
       "      <td>4109</td>\n",
       "      <td>16.8</td>\n",
       "    </tr>\n",
       "    <tr>\n",
       "      <th>4</th>\n",
       "      <td>Bosch</td>\n",
       "      <td>68.01</td>\n",
       "      <td>93</td>\n",
       "      <td>14.1</td>\n",
       "      <td>4458</td>\n",
       "      <td>17.0</td>\n",
       "    </tr>\n",
       "  </tbody>\n",
       "</table>\n",
       "</div>"
      ],
      "text/plain": [
       "  empresa  retorno  disclosure  endividamento  ativos  liquidez\n",
       "0  Adidas    63.67          83            1.3    3967      14.3\n",
       "1    BASF    55.49          91           33.9    5450      16.8\n",
       "2   Bayer    52.42          77           36.1    4327      15.5\n",
       "3     BSH    54.00          90           20.8    4109      16.8\n",
       "4   Bosch    68.01          93           14.1    4458      17.0"
      ]
     },
     "execution_count": 2,
     "metadata": {},
     "output_type": "execute_result"
    }
   ],
   "source": [
    "df_empresas = pd.read_csv('data/empresas.csv')\n",
    "df_empresas.head()"
   ]
  },
  {
   "cell_type": "code",
   "execution_count": 3,
   "metadata": {},
   "outputs": [
    {
     "name": "stdout",
     "output_type": "stream",
     "text": [
      "                            OLS Regression Results                            \n",
      "==============================================================================\n",
      "Dep. Variable:                retorno   R-squared:                       0.000\n",
      "Model:                            OLS   Adj. R-squared:                 -0.008\n",
      "Method:                 Least Squares   F-statistic:                  0.002556\n",
      "Date:                Fri, 23 Aug 2024   Prob (F-statistic):              0.960\n",
      "Time:                        20:05:34   Log-Likelihood:                -511.87\n",
      "No. Observations:                 124   AIC:                             1028.\n",
      "Df Residuals:                     122   BIC:                             1033.\n",
      "Df Model:                           1                                         \n",
      "Covariance Type:            nonrobust                                         \n",
      "=================================================================================\n",
      "                    coef    std err          t      P>|t|      [0.025      0.975]\n",
      "---------------------------------------------------------------------------------\n",
      "Intercept        46.0418      3.330     13.828      0.000      39.450      52.633\n",
      "endividamento     0.0055      0.110      0.051      0.960      -0.211       0.222\n",
      "==============================================================================\n",
      "Omnibus:                        8.297   Durbin-Watson:                   0.594\n",
      "Prob(Omnibus):                  0.016   Jarque-Bera (JB):                8.084\n",
      "Skew:                           0.573   Prob(JB):                       0.0176\n",
      "Kurtosis:                       2.496   Cond. No.                         74.5\n",
      "==============================================================================\n",
      "\n",
      "Notes:\n",
      "[1] Standard Errors assume that the covariance matrix of the errors is correctly specified.\n"
     ]
    }
   ],
   "source": [
    "# MODELO APENAS COM ENDIVIDAMENTO\n",
    "\n",
    "modelo_auxiliar1 = sm.OLS.from_formula('retorno ~ endividamento',\n",
    "                                       df_empresas).fit()\n",
    "\n",
    "# Parâmetros do 'modelo_auxiliar1'\n",
    "print(modelo_auxiliar1.summary())"
   ]
  },
  {
   "cell_type": "code",
   "execution_count": 5,
   "metadata": {},
   "outputs": [
    {
     "name": "stdout",
     "output_type": "stream",
     "text": [
      "                            OLS Regression Results                            \n",
      "==============================================================================\n",
      "Dep. Variable:                retorno   R-squared:                       0.828\n",
      "Model:                            OLS   Adj. R-squared:                  0.824\n",
      "Method:                 Least Squares   F-statistic:                     193.1\n",
      "Date:                Fri, 23 Aug 2024   Prob (F-statistic):           9.55e-46\n",
      "Time:                        20:06:29   Log-Likelihood:                -402.60\n",
      "No. Observations:                 124   AIC:                             813.2\n",
      "Df Residuals:                     120   BIC:                             824.5\n",
      "Df Model:                           3                                         \n",
      "Covariance Type:            nonrobust                                         \n",
      "==============================================================================\n",
      "                 coef    std err          t      P>|t|      [0.025      0.975]\n",
      "------------------------------------------------------------------------------\n",
      "Intercept      2.0461      3.380      0.605      0.546      -4.647       8.739\n",
      "disclosure     0.0874      0.047      1.861      0.065      -0.006       0.180\n",
      "ativos         0.0032      0.001      4.850      0.000       0.002       0.005\n",
      "liquidez       2.2507      0.366      6.152      0.000       1.526       2.975\n",
      "==============================================================================\n",
      "Omnibus:                       18.497   Durbin-Watson:                   1.945\n",
      "Prob(Omnibus):                  0.000   Jarque-Bera (JB):                5.349\n",
      "Skew:                          -0.103   Prob(JB):                       0.0689\n",
      "Kurtosis:                       2.003   Cond. No.                     2.42e+04\n",
      "==============================================================================\n",
      "\n",
      "Notes:\n",
      "[1] Standard Errors assume that the covariance matrix of the errors is correctly specified.\n",
      "[2] The condition number is large, 2.42e+04. This might indicate that there are\n",
      "strong multicollinearity or other numerical problems.\n"
     ]
    }
   ],
   "source": [
    "# MODELO SEM O ENDIVIDAMENTO\n",
    "\n",
    "modelo_auxiliar2 = sm.OLS.from_formula('retorno ~ disclosure + ativos +\\\n",
    "                                       liquidez', df_empresas).fit()\n",
    "\n",
    "# Parâmetros do 'modelo_auxiliar2'\n",
    "print(modelo_auxiliar2.summary())"
   ]
  },
  {
   "cell_type": "code",
   "execution_count": 6,
   "metadata": {},
   "outputs": [
    {
     "name": "stdout",
     "output_type": "stream",
     "text": [
      "                            OLS Regression Results                            \n",
      "==============================================================================\n",
      "Dep. Variable:                retorno   R-squared:                       0.823\n",
      "Model:                            OLS   Adj. R-squared:                  0.820\n",
      "Method:                 Least Squares   F-statistic:                     282.1\n",
      "Date:                Fri, 23 Aug 2024   Prob (F-statistic):           2.76e-46\n",
      "Time:                        20:07:00   Log-Likelihood:                -404.37\n",
      "No. Observations:                 124   AIC:                             814.7\n",
      "Df Residuals:                     121   BIC:                             823.2\n",
      "Df Model:                           2                                         \n",
      "Covariance Type:            nonrobust                                         \n",
      "==============================================================================\n",
      "                 coef    std err          t      P>|t|      [0.025      0.975]\n",
      "------------------------------------------------------------------------------\n",
      "Intercept     -2.5348      2.341     -1.083      0.281      -7.169       2.100\n",
      "ativos         0.0040      0.001      7.649      0.000       0.003       0.005\n",
      "liquidez       2.7391      0.258     10.637      0.000       2.229       3.249\n",
      "==============================================================================\n",
      "Omnibus:                       23.591   Durbin-Watson:                   1.926\n",
      "Prob(Omnibus):                  0.000   Jarque-Bera (JB):                5.887\n",
      "Skew:                          -0.087   Prob(JB):                       0.0527\n",
      "Kurtosis:                       1.947   Cond. No.                     1.65e+04\n",
      "==============================================================================\n",
      "\n",
      "Notes:\n",
      "[1] Standard Errors assume that the covariance matrix of the errors is correctly specified.\n",
      "[2] The condition number is large, 1.65e+04. This might indicate that there are\n",
      "strong multicollinearity or other numerical problems.\n"
     ]
    }
   ],
   "source": [
    "# MODELO SEM O DISCLOSURE (MODELO FINAL LINEAR)\n",
    "\n",
    "modelo_auxiliar3 = sm.OLS.from_formula('retorno ~ ativos +\\\n",
    "                                       liquidez', df_empresas).fit()\n",
    "\n",
    "# Parâmetros do 'modelo_auxiliar3'\n",
    "print(modelo_auxiliar3.summary())"
   ]
  },
  {
   "cell_type": "code",
   "execution_count": 7,
   "metadata": {},
   "outputs": [
    {
     "name": "stdout",
     "output_type": "stream",
     "text": [
      "                            OLS Regression Results                            \n",
      "==============================================================================\n",
      "Dep. Variable:                retorno   R-squared:                       0.746\n",
      "Model:                            OLS   Adj. R-squared:                  0.744\n",
      "Method:                 Least Squares   F-statistic:                     358.4\n",
      "Date:                Fri, 23 Aug 2024   Prob (F-statistic):           4.06e-38\n",
      "Time:                        20:07:40   Log-Likelihood:                -426.89\n",
      "No. Observations:                 124   AIC:                             857.8\n",
      "Df Residuals:                     122   BIC:                             863.4\n",
      "Df Model:                           1                                         \n",
      "Covariance Type:            nonrobust                                         \n",
      "==============================================================================\n",
      "                 coef    std err          t      P>|t|      [0.025      0.975]\n",
      "------------------------------------------------------------------------------\n",
      "Intercept     25.5533      1.288     19.845      0.000      23.004      28.102\n",
      "disclosure     0.4155      0.022     18.932      0.000       0.372       0.459\n",
      "==============================================================================\n",
      "Omnibus:                        0.701   Durbin-Watson:                   1.824\n",
      "Prob(Omnibus):                  0.704   Jarque-Bera (JB):                0.315\n",
      "Skew:                           0.007   Prob(JB):                        0.854\n",
      "Kurtosis:                       3.246   Cond. No.                         110.\n",
      "==============================================================================\n",
      "\n",
      "Notes:\n",
      "[1] Standard Errors assume that the covariance matrix of the errors is correctly specified.\n"
     ]
    }
   ],
   "source": [
    "# MODELO APENAS COM DISCLOSURE\n",
    "\n",
    "modelo_auxiliar4 = sm.OLS.from_formula('retorno ~ disclosure',\n",
    "                                       df_empresas).fit()\n",
    "\n",
    "# Parâmetros do 'modelo_auxiliar4'\n",
    "print(modelo_auxiliar4.summary())\n",
    "\n",
    "## RAZÃO DE ENDIVIDAMENTO NÃO PASSAR: essa variável sozinha já nao e uma boa preditora do comportamento do retorno \n",
    "\n",
    "## RAZÃO DE DISCLOSURE NAO PASSAR: é uma boa preditora do comportamento do retorno, entretanto, na presença de outras variáveis correlacionadas, não é necessária (multicolinearidade)\n",
    "### Algoritmo stepwise faz esse procedimento automaticamente"
   ]
  }
 ],
 "metadata": {
  "kernelspec": {
   "display_name": "myenv",
   "language": "python",
   "name": "python3"
  },
  "language_info": {
   "codemirror_mode": {
    "name": "ipython",
    "version": 3
   },
   "file_extension": ".py",
   "mimetype": "text/x-python",
   "name": "python",
   "nbconvert_exporter": "python",
   "pygments_lexer": "ipython3",
   "version": "3.10.11"
  }
 },
 "nbformat": 4,
 "nbformat_minor": 2
}
