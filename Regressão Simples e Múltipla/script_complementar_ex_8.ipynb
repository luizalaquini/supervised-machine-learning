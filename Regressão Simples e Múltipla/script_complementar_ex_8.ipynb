{
 "cells": [
  {
   "cell_type": "code",
   "execution_count": 3,
   "metadata": {},
   "outputs": [
    {
     "data": {
      "text/html": [
       "<div>\n",
       "<style scoped>\n",
       "    .dataframe tbody tr th:only-of-type {\n",
       "        vertical-align: middle;\n",
       "    }\n",
       "\n",
       "    .dataframe tbody tr th {\n",
       "        vertical-align: top;\n",
       "    }\n",
       "\n",
       "    .dataframe thead th {\n",
       "        text-align: right;\n",
       "    }\n",
       "</style>\n",
       "<table border=\"1\" class=\"dataframe\">\n",
       "  <thead>\n",
       "    <tr style=\"text-align: right;\">\n",
       "      <th></th>\n",
       "      <th>id</th>\n",
       "      <th>despmed</th>\n",
       "      <th>idade</th>\n",
       "      <th>dcron</th>\n",
       "      <th>renda</th>\n",
       "      <th>plano</th>\n",
       "    </tr>\n",
       "  </thead>\n",
       "  <tbody>\n",
       "    <tr>\n",
       "      <th>0</th>\n",
       "      <td>1</td>\n",
       "      <td>206.84</td>\n",
       "      <td>57</td>\n",
       "      <td>5</td>\n",
       "      <td>57.2</td>\n",
       "      <td>bronze</td>\n",
       "    </tr>\n",
       "    <tr>\n",
       "      <th>1</th>\n",
       "      <td>2</td>\n",
       "      <td>184.19</td>\n",
       "      <td>67</td>\n",
       "      <td>4</td>\n",
       "      <td>67.2</td>\n",
       "      <td>bronze</td>\n",
       "    </tr>\n",
       "    <tr>\n",
       "      <th>2</th>\n",
       "      <td>3</td>\n",
       "      <td>175.68</td>\n",
       "      <td>62</td>\n",
       "      <td>4</td>\n",
       "      <td>62.0</td>\n",
       "      <td>bronze</td>\n",
       "    </tr>\n",
       "  </tbody>\n",
       "</table>\n",
       "</div>"
      ],
      "text/plain": [
       "   id  despmed  idade  dcron  renda   plano\n",
       "0   1   206.84     57      5   57.2  bronze\n",
       "1   2   184.19     67      4   67.2  bronze\n",
       "2   3   175.68     62      4   62.0  bronze"
      ]
     },
     "execution_count": 3,
     "metadata": {},
     "output_type": "execute_result"
    }
   ],
   "source": [
    "import pandas as pd\n",
    "import statsmodels.api as sm \n",
    "\n",
    "df_planosaude = pd.read_csv('data/planosaude.csv')\n",
    "\n",
    "df_planosaude.head(3)"
   ]
  },
  {
   "cell_type": "code",
   "execution_count": 5,
   "metadata": {},
   "outputs": [
    {
     "name": "stdout",
     "output_type": "stream",
     "text": [
      "                            OLS Regression Results                            \n",
      "==============================================================================\n",
      "Dep. Variable:                despmed   R-squared:                       0.749\n",
      "Model:                            OLS   Adj. R-squared:                  0.748\n",
      "Method:                 Least Squares   F-statistic:                     590.7\n",
      "Date:                Mon, 02 Sep 2024   Prob (F-statistic):           2.47e-61\n",
      "Time:                        21:05:00   Log-Likelihood:                -894.73\n",
      "No. Observations:                 200   AIC:                             1793.\n",
      "Df Residuals:                     198   BIC:                             1800.\n",
      "Df Model:                           1                                         \n",
      "Covariance Type:            nonrobust                                         \n",
      "==============================================================================\n",
      "                 coef    std err          t      P>|t|      [0.025      0.975]\n",
      "------------------------------------------------------------------------------\n",
      "Intercept     15.6543      6.175      2.535      0.012       3.477      27.831\n",
      "renda          2.9093      0.120     24.304      0.000       2.673       3.145\n",
      "==============================================================================\n",
      "Omnibus:                        0.940   Durbin-Watson:                   1.802\n",
      "Prob(Omnibus):                  0.625   Jarque-Bera (JB):                0.889\n",
      "Skew:                           0.162   Prob(JB):                        0.641\n",
      "Kurtosis:                       2.960   Cond. No.                         211.\n",
      "==============================================================================\n",
      "\n",
      "Notes:\n",
      "[1] Standard Errors assume that the covariance matrix of the errors is correctly specified.\n"
     ]
    }
   ],
   "source": [
    "# Estimação do modelo só com 'renda' como preditora\n",
    "\n",
    "modelo_renda = sm.OLS.from_formula('despmed ~ renda',\n",
    "                                   df_planosaude).fit()\n",
    "\n",
    "# Parâmetros do modelo\n",
    "print(modelo_renda.summary())\n",
    "\n",
    "# RENDA PASSA! Mas cai por multicolinearidade "
   ]
  }
 ],
 "metadata": {
  "kernelspec": {
   "display_name": "myenv",
   "language": "python",
   "name": "python3"
  },
  "language_info": {
   "codemirror_mode": {
    "name": "ipython",
    "version": 3
   },
   "file_extension": ".py",
   "mimetype": "text/x-python",
   "name": "python",
   "nbconvert_exporter": "python",
   "pygments_lexer": "ipython3",
   "version": "3.10.11"
  }
 },
 "nbformat": 4,
 "nbformat_minor": 2
}
