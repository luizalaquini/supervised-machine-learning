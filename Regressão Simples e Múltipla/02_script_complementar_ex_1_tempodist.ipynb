{
 "cells": [
  {
   "cell_type": "code",
   "execution_count": 1,
   "metadata": {},
   "outputs": [],
   "source": [
    "import pandas as pd\n",
    "import numpy as np\n",
    "import matplotlib.pyplot as plt\n",
    "import statsmodels.api as sm\n",
    "\n",
    "from statsmodels.stats.anova import anova_lm\n",
    "from scipy.stats import f\n",
    "from scipy.stats import t\n",
    "from PIL import Image"
   ]
  },
  {
   "cell_type": "code",
   "execution_count": 2,
   "metadata": {},
   "outputs": [
    {
     "data": {
      "text/html": [
       "<div>\n",
       "<style scoped>\n",
       "    .dataframe tbody tr th:only-of-type {\n",
       "        vertical-align: middle;\n",
       "    }\n",
       "\n",
       "    .dataframe tbody tr th {\n",
       "        vertical-align: top;\n",
       "    }\n",
       "\n",
       "    .dataframe thead th {\n",
       "        text-align: right;\n",
       "    }\n",
       "</style>\n",
       "<table border=\"1\" class=\"dataframe\">\n",
       "  <thead>\n",
       "    <tr style=\"text-align: right;\">\n",
       "      <th></th>\n",
       "      <th>tempo</th>\n",
       "      <th>distancia</th>\n",
       "    </tr>\n",
       "  </thead>\n",
       "  <tbody>\n",
       "    <tr>\n",
       "      <th>0</th>\n",
       "      <td>15</td>\n",
       "      <td>8</td>\n",
       "    </tr>\n",
       "    <tr>\n",
       "      <th>1</th>\n",
       "      <td>20</td>\n",
       "      <td>6</td>\n",
       "    </tr>\n",
       "    <tr>\n",
       "      <th>2</th>\n",
       "      <td>20</td>\n",
       "      <td>15</td>\n",
       "    </tr>\n",
       "    <tr>\n",
       "      <th>3</th>\n",
       "      <td>40</td>\n",
       "      <td>20</td>\n",
       "    </tr>\n",
       "    <tr>\n",
       "      <th>4</th>\n",
       "      <td>50</td>\n",
       "      <td>25</td>\n",
       "    </tr>\n",
       "    <tr>\n",
       "      <th>5</th>\n",
       "      <td>25</td>\n",
       "      <td>11</td>\n",
       "    </tr>\n",
       "    <tr>\n",
       "      <th>6</th>\n",
       "      <td>10</td>\n",
       "      <td>5</td>\n",
       "    </tr>\n",
       "    <tr>\n",
       "      <th>7</th>\n",
       "      <td>55</td>\n",
       "      <td>32</td>\n",
       "    </tr>\n",
       "    <tr>\n",
       "      <th>8</th>\n",
       "      <td>35</td>\n",
       "      <td>28</td>\n",
       "    </tr>\n",
       "    <tr>\n",
       "      <th>9</th>\n",
       "      <td>30</td>\n",
       "      <td>20</td>\n",
       "    </tr>\n",
       "  </tbody>\n",
       "</table>\n",
       "</div>"
      ],
      "text/plain": [
       "   tempo  distancia\n",
       "0     15          8\n",
       "1     20          6\n",
       "2     20         15\n",
       "3     40         20\n",
       "4     50         25\n",
       "5     25         11\n",
       "6     10          5\n",
       "7     55         32\n",
       "8     35         28\n",
       "9     30         20"
      ]
     },
     "execution_count": 2,
     "metadata": {},
     "output_type": "execute_result"
    }
   ],
   "source": [
    "df_tempodist = pd.read_csv('data/tempodist.csv', delimiter=',')\n",
    "df_tempodist"
   ]
  },
  {
   "cell_type": "code",
   "execution_count": 3,
   "metadata": {},
   "outputs": [
    {
     "data": {
      "text/plain": [
       "Intercept    5.878378\n",
       "distancia    1.418919\n",
       "dtype: float64"
      ]
     },
     "execution_count": 3,
     "metadata": {},
     "output_type": "execute_result"
    }
   ],
   "source": [
    "# Estimação do modelo\n",
    "modelo = sm.OLS.from_formula('tempo ~ distancia', df_tempodist).fit()\n",
    "modelo.params"
   ]
  },
  {
   "cell_type": "code",
   "execution_count": 4,
   "metadata": {},
   "outputs": [
    {
     "data": {
      "text/plain": [
       "0.8194256756756757"
      ]
     },
     "execution_count": 4,
     "metadata": {},
     "output_type": "execute_result"
    }
   ],
   "source": [
    "modelo.rsquared"
   ]
  },
  {
   "cell_type": "code",
   "execution_count": 5,
   "metadata": {},
   "outputs": [
    {
     "data": {
      "text/plain": [
       "1638.8513513513512"
      ]
     },
     "execution_count": 5,
     "metadata": {},
     "output_type": "execute_result"
    }
   ],
   "source": [
    "# Somatória dos quadrados do modelo (SQM)\n",
    "modelo.ess"
   ]
  },
  {
   "cell_type": "code",
   "execution_count": 6,
   "metadata": {},
   "outputs": [
    {
     "data": {
      "text/plain": [
       "361.14864864864865"
      ]
     },
     "execution_count": 6,
     "metadata": {},
     "output_type": "execute_result"
    }
   ],
   "source": [
    "# Somatória dos erros ao quadrado (SQErro)\n",
    "modelo.ssr"
   ]
  },
  {
   "cell_type": "code",
   "execution_count": 7,
   "metadata": {},
   "outputs": [
    {
     "data": {
      "text/plain": [
       "10.0"
      ]
     },
     "execution_count": 7,
     "metadata": {},
     "output_type": "execute_result"
    }
   ],
   "source": [
    "n = modelo.nobs\n",
    "n"
   ]
  },
  {
   "cell_type": "code",
   "execution_count": 8,
   "metadata": {},
   "outputs": [
    {
     "data": {
      "text/plain": [
       "8.0"
      ]
     },
     "execution_count": 8,
     "metadata": {},
     "output_type": "execute_result"
    }
   ],
   "source": [
    "df_residuos = modelo.df_resid\n",
    "df_residuos"
   ]
  },
  {
   "cell_type": "code",
   "execution_count": 9,
   "metadata": {},
   "outputs": [
    {
     "data": {
      "text/plain": [
       "1.0"
      ]
     },
     "execution_count": 9,
     "metadata": {},
     "output_type": "execute_result"
    }
   ],
   "source": [
    "df_modelo = modelo.df_model\n",
    "df_modelo"
   ]
  },
  {
   "cell_type": "code",
   "execution_count": 10,
   "metadata": {},
   "outputs": [
    {
     "data": {
      "text/plain": [
       "36.30308699719364"
      ]
     },
     "execution_count": 10,
     "metadata": {},
     "output_type": "execute_result"
    }
   ],
   "source": [
    "# Cálculo da estatística F de Fisher/Snedecor\n",
    "F = ((modelo.ess)/df_modelo)/((modelo.ssr)/df_residuos)\n",
    "F"
   ]
  },
  {
   "cell_type": "code",
   "execution_count": 11,
   "metadata": {},
   "outputs": [
    {
     "data": {
      "text/html": [
       "<div>\n",
       "<style scoped>\n",
       "    .dataframe tbody tr th:only-of-type {\n",
       "        vertical-align: middle;\n",
       "    }\n",
       "\n",
       "    .dataframe tbody tr th {\n",
       "        vertical-align: top;\n",
       "    }\n",
       "\n",
       "    .dataframe thead th {\n",
       "        text-align: right;\n",
       "    }\n",
       "</style>\n",
       "<table border=\"1\" class=\"dataframe\">\n",
       "  <thead>\n",
       "    <tr style=\"text-align: right;\">\n",
       "      <th></th>\n",
       "      <th>df</th>\n",
       "      <th>sum_sq</th>\n",
       "      <th>mean_sq</th>\n",
       "      <th>F</th>\n",
       "      <th>PR(&gt;F)</th>\n",
       "    </tr>\n",
       "  </thead>\n",
       "  <tbody>\n",
       "    <tr>\n",
       "      <th>distancia</th>\n",
       "      <td>1.0</td>\n",
       "      <td>1638.851351</td>\n",
       "      <td>1638.851351</td>\n",
       "      <td>36.303087</td>\n",
       "      <td>0.000314</td>\n",
       "    </tr>\n",
       "    <tr>\n",
       "      <th>Residual</th>\n",
       "      <td>8.0</td>\n",
       "      <td>361.148649</td>\n",
       "      <td>45.143581</td>\n",
       "      <td>NaN</td>\n",
       "      <td>NaN</td>\n",
       "    </tr>\n",
       "  </tbody>\n",
       "</table>\n",
       "</div>"
      ],
      "text/plain": [
       "            df       sum_sq      mean_sq          F    PR(>F)\n",
       "distancia  1.0  1638.851351  1638.851351  36.303087  0.000314\n",
       "Residual   8.0   361.148649    45.143581        NaN       NaN"
      ]
     },
     "execution_count": 11,
     "metadata": {},
     "output_type": "execute_result"
    }
   ],
   "source": [
    "# ANOVA (Analysis of Variance)\n",
    "anova_lm(modelo)"
   ]
  },
  {
   "cell_type": "code",
   "execution_count": 12,
   "metadata": {},
   "outputs": [
    {
     "data": {
      "text/plain": [
       "36.30308699719366"
      ]
     },
     "execution_count": 12,
     "metadata": {},
     "output_type": "execute_result"
    }
   ],
   "source": [
    "anova_lm(modelo).F.iloc[0]"
   ]
  },
  {
   "cell_type": "code",
   "execution_count": 13,
   "metadata": {},
   "outputs": [
    {
     "data": {
      "text/plain": [
       "0.0003144488029083181"
      ]
     },
     "execution_count": 13,
     "metadata": {},
     "output_type": "execute_result"
    }
   ],
   "source": [
    "# Definição do p-value associado ao F calculado\n",
    "1 - f.cdf(F, df_modelo, df_residuos)\n",
    "# Portanto, HÁ MODELO! p<0.05"
   ]
  },
  {
   "cell_type": "code",
   "execution_count": 14,
   "metadata": {},
   "outputs": [
    {
     "data": {
      "text/plain": [
       "(array([6.000e+00, 6.400e+01, 2.400e+02, 5.010e+02, 8.880e+02, 1.421e+03,\n",
       "        2.126e+03, 2.699e+03, 3.225e+03, 3.708e+03, 4.173e+03, 4.569e+03,\n",
       "        4.886e+03, 4.980e+03, 4.954e+03, 4.956e+03, 4.719e+03, 4.822e+03,\n",
       "        4.482e+03, 4.252e+03, 3.874e+03, 3.779e+03, 3.442e+03, 3.038e+03,\n",
       "        2.774e+03, 2.531e+03, 2.331e+03, 1.971e+03, 1.866e+03, 1.546e+03,\n",
       "        1.474e+03, 1.236e+03, 1.153e+03, 9.950e+02, 9.080e+02, 7.360e+02,\n",
       "        6.700e+02, 5.470e+02, 5.160e+02, 4.520e+02, 3.760e+02, 3.030e+02,\n",
       "        2.850e+02, 2.020e+02, 2.240e+02, 1.760e+02, 1.260e+02, 1.160e+02,\n",
       "        1.210e+02, 8.600e+01, 7.100e+01, 5.700e+01, 6.300e+01, 4.400e+01,\n",
       "        4.600e+01, 4.200e+01, 1.600e+01, 2.300e+01, 1.600e+01, 1.400e+01,\n",
       "        1.000e+01, 1.300e+01, 1.200e+01, 9.000e+00, 5.000e+00, 3.000e+00,\n",
       "        7.000e+00, 6.000e+00, 2.000e+00, 2.000e+00, 3.000e+00, 4.000e+00,\n",
       "        2.000e+00, 1.000e+00, 0.000e+00, 0.000e+00, 0.000e+00, 0.000e+00,\n",
       "        0.000e+00, 0.000e+00, 1.000e+00, 0.000e+00, 0.000e+00, 0.000e+00,\n",
       "        0.000e+00, 0.000e+00, 0.000e+00, 0.000e+00, 0.000e+00, 1.000e+00,\n",
       "        1.000e+00, 0.000e+00, 0.000e+00, 0.000e+00, 0.000e+00, 0.000e+00,\n",
       "        0.000e+00, 0.000e+00, 0.000e+00, 1.000e+00]),\n",
       " array([0.03163348, 0.08375716, 0.13588085, 0.18800454, 0.24012822,\n",
       "        0.29225191, 0.3443756 , 0.39649928, 0.44862297, 0.50074665,\n",
       "        0.55287034, 0.60499403, 0.65711771, 0.7092414 , 0.76136508,\n",
       "        0.81348877, 0.86561246, 0.91773614, 0.96985983, 1.02198351,\n",
       "        1.0741072 , 1.12623089, 1.17835457, 1.23047826, 1.28260195,\n",
       "        1.33472563, 1.38684932, 1.438973  , 1.49109669, 1.54322038,\n",
       "        1.59534406, 1.64746775, 1.69959143, 1.75171512, 1.80383881,\n",
       "        1.85596249, 1.90808618, 1.96020987, 2.01233355, 2.06445724,\n",
       "        2.11658092, 2.16870461, 2.2208283 , 2.27295198, 2.32507567,\n",
       "        2.37719935, 2.42932304, 2.48144673, 2.53357041, 2.5856941 ,\n",
       "        2.63781778, 2.68994147, 2.74206516, 2.79418884, 2.84631253,\n",
       "        2.89843622, 2.9505599 , 3.00268359, 3.05480727, 3.10693096,\n",
       "        3.15905465, 3.21117833, 3.26330202, 3.3154257 , 3.36754939,\n",
       "        3.41967308, 3.47179676, 3.52392045, 3.57604414, 3.62816782,\n",
       "        3.68029151, 3.73241519, 3.78453888, 3.83666257, 3.88878625,\n",
       "        3.94090994, 3.99303362, 4.04515731, 4.097281  , 4.14940468,\n",
       "        4.20152837, 4.25365205, 4.30577574, 4.35789943, 4.41002311,\n",
       "        4.4621468 , 4.51427049, 4.56639417, 4.61851786, 4.67064154,\n",
       "        4.72276523, 4.77488892, 4.8270126 , 4.87913629, 4.93125997,\n",
       "        4.98338366, 5.03550735, 5.08763103, 5.13975472, 5.19187841,\n",
       "        5.24400209]),\n",
       " <BarContainer object of 100 artists>)"
      ]
     },
     "execution_count": 14,
     "metadata": {},
     "output_type": "execute_result"
    },
    {
     "data": {
      "image/png": "[encoded data removed]",
      "text/plain": [
       "<Figure size 640x480 with 1 Axes>"
      ]
     },
     "metadata": {},
     "output_type": "display_data"
    }
   ],
   "source": [
    "# F Hipotético\n",
    "df1 = 10\n",
    "df2 = 200\n",
    "\n",
    "f_values = np.random.f(df1, df2, 100000)\n",
    "\n",
    "plt.hist(f_values, bins=100, edgecolor='black')\n",
    "plt.hist(f_values, bins=100, color='lightgrey')"
   ]
  },
  {
   "cell_type": "code",
   "execution_count": 15,
   "metadata": {},
   "outputs": [
    {
     "data": {
      "text/plain": [
       "5.317655071578712"
      ]
     },
     "execution_count": 15,
     "metadata": {},
     "output_type": "execute_result"
    }
   ],
   "source": [
    "# Voltando ao nosso modelo\n",
    "# Cálculo do F crítico\n",
    "\n",
    "f.ppf(0.95, df_modelo, df_residuos)"
   ]
  },
  {
   "cell_type": "code",
   "execution_count": 16,
   "metadata": {},
   "outputs": [
    {
     "data": {
      "text/plain": [
       "(array([2.000e+00, 0.000e+00, 0.000e+00, 1.000e+00, 0.000e+00, 0.000e+00,\n",
       "        1.000e+00, 4.000e+00, 2.000e+00, 1.000e+00, 3.000e+00, 4.000e+00,\n",
       "        6.000e+00, 8.000e+00, 1.200e+01, 7.000e+00, 9.000e+00, 1.900e+01,\n",
       "        3.100e+01, 4.100e+01, 2.700e+01, 6.300e+01, 6.500e+01, 7.800e+01,\n",
       "        9.800e+01, 1.230e+02, 1.400e+02, 1.950e+02, 2.420e+02, 3.110e+02,\n",
       "        3.510e+02, 4.220e+02, 5.010e+02, 6.240e+02, 7.430e+02, 8.810e+02,\n",
       "        1.006e+03, 1.134e+03, 1.418e+03, 1.575e+03, 1.732e+03, 1.995e+03,\n",
       "        2.197e+03, 2.312e+03, 2.479e+03, 2.783e+03, 2.970e+03, 3.055e+03,\n",
       "        3.431e+03, 3.468e+03, 3.490e+03, 3.758e+03, 3.733e+03, 3.665e+03,\n",
       "        3.856e+03, 3.767e+03, 3.665e+03, 3.474e+03, 3.395e+03, 3.255e+03,\n",
       "        3.094e+03, 2.774e+03, 2.592e+03, 2.364e+03, 2.234e+03, 1.967e+03,\n",
       "        1.785e+03, 1.601e+03, 1.403e+03, 1.207e+03, 1.064e+03, 8.760e+02,\n",
       "        7.890e+02, 6.360e+02, 5.670e+02, 5.070e+02, 3.700e+02, 3.460e+02,\n",
       "        2.320e+02, 2.240e+02, 1.450e+02, 1.240e+02, 1.100e+02, 8.300e+01,\n",
       "        4.300e+01, 5.300e+01, 3.000e+01, 3.000e+01, 3.200e+01, 2.000e+01,\n",
       "        1.800e+01, 1.700e+01, 9.000e+00, 9.000e+00, 3.000e+00, 7.000e+00,\n",
       "        3.000e+00, 0.000e+00, 1.000e+00, 3.000e+00]),\n",
       " array([-5.0952463 , -5.00018847, -4.90513065, -4.81007283, -4.71501501,\n",
       "        -4.61995719, -4.52489936, -4.42984154, -4.33478372, -4.2397259 ,\n",
       "        -4.14466807, -4.04961025, -3.95455243, -3.85949461, -3.76443679,\n",
       "        -3.66937896, -3.57432114, -3.47926332, -3.3842055 , -3.28914767,\n",
       "        -3.19408985, -3.09903203, -3.00397421, -2.90891639, -2.81385856,\n",
       "        -2.71880074, -2.62374292, -2.5286851 , -2.43362727, -2.33856945,\n",
       "        -2.24351163, -2.14845381, -2.05339598, -1.95833816, -1.86328034,\n",
       "        -1.76822252, -1.6731647 , -1.57810687, -1.48304905, -1.38799123,\n",
       "        -1.29293341, -1.19787558, -1.10281776, -1.00775994, -0.91270212,\n",
       "        -0.8176443 , -0.72258647, -0.62752865, -0.53247083, -0.43741301,\n",
       "        -0.34235518, -0.24729736, -0.15223954, -0.05718172,  0.0378761 ,\n",
       "         0.13293393,  0.22799175,  0.32304957,  0.41810739,  0.51316522,\n",
       "         0.60822304,  0.70328086,  0.79833868,  0.89339651,  0.98845433,\n",
       "         1.08351215,  1.17856997,  1.27362779,  1.36868562,  1.46374344,\n",
       "         1.55880126,  1.65385908,  1.74891691,  1.84397473,  1.93903255,\n",
       "         2.03409037,  2.12914819,  2.22420602,  2.31926384,  2.41432166,\n",
       "         2.50937948,  2.60443731,  2.69949513,  2.79455295,  2.88961077,\n",
       "         2.98466859,  3.07972642,  3.17478424,  3.26984206,  3.36489988,\n",
       "         3.45995771,  3.55501553,  3.65007335,  3.74513117,  3.840189  ,\n",
       "         3.93524682,  4.03030464,  4.12536246,  4.22042028,  4.31547811,\n",
       "         4.41053593]),\n",
       " <BarContainer object of 100 artists>)"
      ]
     },
     "execution_count": 16,
     "metadata": {},
     "output_type": "execute_result"
    },
    {
     "data": {
      "image/png": "[encoded data removed]",
      "text/plain": [
       "<Figure size 640x480 with 1 Axes>"
      ]
     },
     "metadata": {},
     "output_type": "display_data"
    }
   ],
   "source": [
    "# Distribuição t de Student\n",
    "# Hipotética\n",
    "\n",
    "df = 40\n",
    "t_values = np.random.standard_t(df, 100000)\n",
    "\n",
    "plt.hist(t_values, bins=100, edgecolor='black')\n",
    "plt.hist(t_values, bins=100, color='lightgrey')"
   ]
  },
  {
   "cell_type": "code",
   "execution_count": 17,
   "metadata": {},
   "outputs": [
    {
     "data": {
      "text/plain": [
       "6.025204311655633"
      ]
     },
     "execution_count": 17,
     "metadata": {},
     "output_type": "execute_result"
    }
   ],
   "source": [
    "# Cálculo da estatística t do beta da variável 'distancia' para o nosso exemplo\n",
    "# t é a raiz quadrada de F (regressão simples)\n",
    "\n",
    "t_estat = np.sqrt(F)\n",
    "t_estat"
   ]
  },
  {
   "cell_type": "code",
   "execution_count": 18,
   "metadata": {},
   "outputs": [
    {
     "data": {
      "text/plain": [
       "0.00031444880290832364"
      ]
     },
     "execution_count": 18,
     "metadata": {},
     "output_type": "execute_result"
    }
   ],
   "source": [
    "# Cálculo do p-value da estatística t\n",
    "t.sf(t_estat, df_residuos)*2"
   ]
  },
  {
   "cell_type": "code",
   "execution_count": 19,
   "metadata": {},
   "outputs": [
    {
     "data": {
      "text/plain": [
       "<matplotlib.legend.Legend at 0x1fb592b0880>"
      ]
     },
     "execution_count": 19,
     "metadata": {},
     "output_type": "execute_result"
    },
    {
     "data": {
      "image/png": "[encoded data removed]",
      "text/plain": [
       "<Figure size 640x480 with 1 Axes>"
      ]
     },
     "metadata": {},
     "output_type": "display_data"
    }
   ],
   "source": [
    "# Gráfico de distribuições t hipotéticas\n",
    "\n",
    "x = np.arange(-4,4,0.0001)\n",
    "\n",
    "plt.plot(x,t.pdf(x,2), label='df=2', color='yellow')\n",
    "plt.plot(x,t.pdf(x,8), label='df=8', color='green')\n",
    "plt.plot(x,t.pdf(x,20), label='df=20', color='darkorchid')\n",
    "plt.legend()"
   ]
  },
  {
   "cell_type": "code",
   "execution_count": 20,
   "metadata": {},
   "outputs": [
    {
     "data": {
      "text/html": [
       "<div>\n",
       "<style scoped>\n",
       "    .dataframe tbody tr th:only-of-type {\n",
       "        vertical-align: middle;\n",
       "    }\n",
       "\n",
       "    .dataframe tbody tr th {\n",
       "        vertical-align: top;\n",
       "    }\n",
       "\n",
       "    .dataframe thead th {\n",
       "        text-align: right;\n",
       "    }\n",
       "</style>\n",
       "<table border=\"1\" class=\"dataframe\">\n",
       "  <thead>\n",
       "    <tr style=\"text-align: right;\">\n",
       "      <th></th>\n",
       "      <th>regiao</th>\n",
       "      <th>cpi</th>\n",
       "    </tr>\n",
       "  </thead>\n",
       "  <tbody>\n",
       "    <tr>\n",
       "      <th>0</th>\n",
       "      <td>America_do_sul</td>\n",
       "      <td>4.180000</td>\n",
       "    </tr>\n",
       "    <tr>\n",
       "      <th>1</th>\n",
       "      <td>Asia</td>\n",
       "      <td>2.329412</td>\n",
       "    </tr>\n",
       "    <tr>\n",
       "      <th>2</th>\n",
       "      <td>EUA_e_Canada</td>\n",
       "      <td>8.000000</td>\n",
       "    </tr>\n",
       "    <tr>\n",
       "      <th>3</th>\n",
       "      <td>Europa</td>\n",
       "      <td>6.258333</td>\n",
       "    </tr>\n",
       "    <tr>\n",
       "      <th>4</th>\n",
       "      <td>Oceania</td>\n",
       "      <td>9.000000</td>\n",
       "    </tr>\n",
       "  </tbody>\n",
       "</table>\n",
       "</div>"
      ],
      "text/plain": [
       "           regiao       cpi\n",
       "0  America_do_sul  4.180000\n",
       "1            Asia  2.329412\n",
       "2    EUA_e_Canada  8.000000\n",
       "3          Europa  6.258333\n",
       "4         Oceania  9.000000"
      ]
     },
     "execution_count": 20,
     "metadata": {},
     "output_type": "execute_result"
    }
   ],
   "source": [
    "# EXEMPLO 3:\n",
    "df_corrupcao = pd.read_csv('data/corrupcao.csv',delimiter=',',encoding='utf-8')\n",
    "\n",
    "df_corrupcao.groupby('regiao')['cpi'].mean().reset_index()"
   ]
  },
  {
   "cell_type": "code",
   "execution_count": 23,
   "metadata": {},
   "outputs": [
    {
     "data": {
      "text/html": [
       "<div>\n",
       "<style scoped>\n",
       "    .dataframe tbody tr th:only-of-type {\n",
       "        vertical-align: middle;\n",
       "    }\n",
       "\n",
       "    .dataframe tbody tr th {\n",
       "        vertical-align: top;\n",
       "    }\n",
       "\n",
       "    .dataframe thead th {\n",
       "        text-align: right;\n",
       "    }\n",
       "</style>\n",
       "<table border=\"1\" class=\"dataframe\">\n",
       "  <thead>\n",
       "    <tr style=\"text-align: right;\">\n",
       "      <th></th>\n",
       "      <th>pais</th>\n",
       "      <th>cpi</th>\n",
       "      <th>regiao_America_do_sul</th>\n",
       "      <th>regiao_Asia</th>\n",
       "      <th>regiao_EUA_e_Canada</th>\n",
       "      <th>regiao_Europa</th>\n",
       "      <th>regiao_Oceania</th>\n",
       "    </tr>\n",
       "  </thead>\n",
       "  <tbody>\n",
       "    <tr>\n",
       "      <th>0</th>\n",
       "      <td>Argentina</td>\n",
       "      <td>3.9</td>\n",
       "      <td>1</td>\n",
       "      <td>0</td>\n",
       "      <td>0</td>\n",
       "      <td>0</td>\n",
       "      <td>0</td>\n",
       "    </tr>\n",
       "    <tr>\n",
       "      <th>1</th>\n",
       "      <td>Australia</td>\n",
       "      <td>8.7</td>\n",
       "      <td>0</td>\n",
       "      <td>0</td>\n",
       "      <td>0</td>\n",
       "      <td>0</td>\n",
       "      <td>1</td>\n",
       "    </tr>\n",
       "    <tr>\n",
       "      <th>2</th>\n",
       "      <td>Austria</td>\n",
       "      <td>7.9</td>\n",
       "      <td>0</td>\n",
       "      <td>0</td>\n",
       "      <td>0</td>\n",
       "      <td>1</td>\n",
       "      <td>0</td>\n",
       "    </tr>\n",
       "    <tr>\n",
       "      <th>3</th>\n",
       "      <td>Belgium</td>\n",
       "      <td>7.1</td>\n",
       "      <td>0</td>\n",
       "      <td>0</td>\n",
       "      <td>0</td>\n",
       "      <td>1</td>\n",
       "      <td>0</td>\n",
       "    </tr>\n",
       "    <tr>\n",
       "      <th>4</th>\n",
       "      <td>Brazil</td>\n",
       "      <td>4.0</td>\n",
       "      <td>1</td>\n",
       "      <td>0</td>\n",
       "      <td>0</td>\n",
       "      <td>0</td>\n",
       "      <td>0</td>\n",
       "    </tr>\n",
       "  </tbody>\n",
       "</table>\n",
       "</div>"
      ],
      "text/plain": [
       "        pais  cpi  regiao_America_do_sul  regiao_Asia  regiao_EUA_e_Canada  \\\n",
       "0  Argentina  3.9                      1            0                    0   \n",
       "1  Australia  8.7                      0            0                    0   \n",
       "2    Austria  7.9                      0            0                    0   \n",
       "3    Belgium  7.1                      0            0                    0   \n",
       "4     Brazil  4.0                      1            0                    0   \n",
       "\n",
       "   regiao_Europa  regiao_Oceania  \n",
       "0              0               0  \n",
       "1              0               1  \n",
       "2              1               0  \n",
       "3              1               0  \n",
       "4              0               0  "
      ]
     },
     "execution_count": 23,
     "metadata": {},
     "output_type": "execute_result"
    }
   ],
   "source": [
    "# Mudando a categoria de referência\n",
    "\n",
    "df_corrupcao_dummies = pd.get_dummies(df_corrupcao, columns=['regiao'],\n",
    "                                      dtype=int,\n",
    "                                      drop_first=False) # n dummies\n",
    "\n",
    "df_corrupcao_dummies.head()"
   ]
  },
  {
   "cell_type": "code",
   "execution_count": 24,
   "metadata": {},
   "outputs": [
    {
     "name": "stdout",
     "output_type": "stream",
     "text": [
      "Fórmula utilizada:  cpi ~ regiao_America_do_sul + regiao_Asia + regiao_EUA_e_Canada + regiao_Europa\n"
     ]
    }
   ],
   "source": [
    "# Categoria de referência = Oceania\n",
    "\n",
    "# Definição da fórmula utilizada no modelo\n",
    "lista_colunas = list(df_corrupcao_dummies.drop(columns=['cpi','pais',\n",
    "                                                        'regiao_Oceania']).columns)\n",
    "formula_dummies_modelo = ' + '.join(lista_colunas)\n",
    "formula_dummies_modelo = \"cpi ~ \" + formula_dummies_modelo\n",
    "print(\"Fórmula utilizada: \",formula_dummies_modelo)"
   ]
  },
  {
   "cell_type": "code",
   "execution_count": 26,
   "metadata": {},
   "outputs": [
    {
     "name": "stdout",
     "output_type": "stream",
     "text": [
      "                            OLS Regression Results                            \n",
      "==============================================================================\n",
      "Dep. Variable:                    cpi   R-squared:                       0.603\n",
      "Model:                            OLS   Adj. R-squared:                  0.568\n",
      "Method:                 Least Squares   F-statistic:                     17.09\n",
      "Date:                Mon, 19 Aug 2024   Prob (F-statistic):           1.37e-08\n",
      "Time:                        20:38:38   Log-Likelihood:                -96.620\n",
      "No. Observations:                  50   AIC:                             203.2\n",
      "Df Residuals:                      45   BIC:                             212.8\n",
      "Df Model:                           4                                         \n",
      "Covariance Type:            nonrobust                                         \n",
      "=========================================================================================\n",
      "                            coef    std err          t      P>|t|      [0.025      0.975]\n",
      "-----------------------------------------------------------------------------------------\n",
      "Intercept                 9.0000      1.246      7.226      0.000       6.491      11.509\n",
      "regiao_America_do_sul    -4.8200      1.474     -3.271      0.002      -7.788      -1.852\n",
      "regiao_Asia              -6.6706      1.317     -5.066      0.000      -9.323      -4.018\n",
      "regiao_EUA_e_Canada      -1.0000      1.761     -0.568      0.573      -4.548       2.548\n",
      "regiao_Europa            -2.7417      1.296     -2.115      0.040      -5.353      -0.131\n",
      "==============================================================================\n",
      "Omnibus:                        1.205   Durbin-Watson:                   1.928\n",
      "Prob(Omnibus):                  0.547   Jarque-Bera (JB):                1.083\n",
      "Skew:                          -0.347   Prob(JB):                        0.582\n",
      "Kurtosis:                       2.804   Cond. No.                         13.6\n",
      "==============================================================================\n",
      "\n",
      "Notes:\n",
      "[1] Standard Errors assume that the covariance matrix of the errors is correctly specified.\n"
     ]
    }
   ],
   "source": [
    "# Estimação\n",
    "modelo_corrupcao_dummies = sm.OLS.from_formula(formula_dummies_modelo,\n",
    "                                               df_corrupcao_dummies).fit()\n",
    "\n",
    "# Parâmetros do 'modelo_corrupcao_dummies'\n",
    "print(modelo_corrupcao_dummies.summary())"
   ]
  }
 ],
 "metadata": {
  "kernelspec": {
   "display_name": "myenv",
   "language": "python",
   "name": "python3"
  },
  "language_info": {
   "codemirror_mode": {
    "name": "ipython",
    "version": 3
   },
   "file_extension": ".py",
   "mimetype": "text/x-python",
   "name": "python",
   "nbconvert_exporter": "python",
   "pygments_lexer": "ipython3",
   "version": "3.10.11"
  }
 },
 "nbformat": 4,
 "nbformat_minor": 2
}
